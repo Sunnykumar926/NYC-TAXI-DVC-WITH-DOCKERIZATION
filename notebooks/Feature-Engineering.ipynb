{
 "cells": [
  {
   "cell_type": "code",
   "execution_count": 1,
   "id": "8b3543d2",
   "metadata": {
    "_cell_guid": "b1076dfc-b9ad-4769-8c92-a6c4dae69d19",
    "_uuid": "8f2839f25d086af736a60e9eeb907d3b93b6e0e5",
    "execution": {
     "iopub.execute_input": "2024-09-06T17:29:02.407972Z",
     "iopub.status.busy": "2024-09-06T17:29:02.406507Z",
     "iopub.status.idle": "2024-09-06T17:29:02.903002Z",
     "shell.execute_reply": "2024-09-06T17:29:02.901172Z"
    },
    "papermill": {
     "duration": 0.526929,
     "end_time": "2024-09-06T17:29:02.906138",
     "exception": false,
     "start_time": "2024-09-06T17:29:02.379209",
     "status": "completed"
    },
    "tags": []
   },
   "outputs": [
    {
     "name": "stdout",
     "output_type": "stream",
     "text": [
      "/kaggle/input/nyc-taxi-trip-duration/train.zip\n",
      "/kaggle/input/nyc-taxi-trip-duration/test.zip\n",
      "/kaggle/input/nyc-taxi-trip-duration/sample_submission.zip\n"
     ]
    }
   ],
   "source": [
    "# This Python 3 environment comes with many helpful analytics libraries installed\n",
    "# It is defined by the kaggle/python Docker image: https://github.com/kaggle/docker-python\n",
    "# For example, here's several helpful packages to load\n",
    "\n",
    "import numpy as np # linear algebra\n",
    "import pandas as pd # data processing, CSV file I/O (e.g. pd.read_csv)\n",
    "\n",
    "# Input data files are available in the read-only \"../input/\" directory\n",
    "# For example, running this (by clicking run or pressing Shift+Enter) will list all files under the input directory\n",
    "\n",
    "import os\n",
    "for dirname, _, filenames in os.walk('/kaggle/input'):\n",
    "    for filename in filenames:\n",
    "        print(os.path.join(dirname, filename))\n",
    "\n",
    "# You can write up to 20GB to the current directory (/kaggle/working/) that gets preserved as output when you create a version using \"Save & Run All\" \n",
    "# You can also write temporary files to /kaggle/temp/, but they won't be saved outside of the current session"
   ]
  },
  {
   "cell_type": "code",
   "execution_count": 2,
   "id": "e6f23751",
   "metadata": {
    "execution": {
     "iopub.execute_input": "2024-09-06T17:29:02.957429Z",
     "iopub.status.busy": "2024-09-06T17:29:02.956678Z",
     "iopub.status.idle": "2024-09-06T17:29:02.963965Z",
     "shell.execute_reply": "2024-09-06T17:29:02.962255Z"
    },
    "papermill": {
     "duration": 0.036192,
     "end_time": "2024-09-06T17:29:02.966926",
     "exception": false,
     "start_time": "2024-09-06T17:29:02.930734",
     "status": "completed"
    },
    "tags": []
   },
   "outputs": [],
   "source": [
    "import warnings\n",
    "warnings.filterwarnings('ignore')"
   ]
  },
  {
   "cell_type": "code",
   "execution_count": 3,
   "id": "7b7b5e26",
   "metadata": {
    "execution": {
     "iopub.execute_input": "2024-09-06T17:29:03.018668Z",
     "iopub.status.busy": "2024-09-06T17:29:03.016894Z",
     "iopub.status.idle": "2024-09-06T17:29:03.027673Z",
     "shell.execute_reply": "2024-09-06T17:29:03.026275Z"
    },
    "papermill": {
     "duration": 0.03975,
     "end_time": "2024-09-06T17:29:03.030538",
     "exception": false,
     "start_time": "2024-09-06T17:29:02.990788",
     "status": "completed"
    },
    "tags": []
   },
   "outputs": [
    {
     "data": {
      "text/plain": [
       "'/kaggle/working'"
      ]
     },
     "execution_count": 3,
     "metadata": {},
     "output_type": "execute_result"
    }
   ],
   "source": [
    "pwd"
   ]
  },
  {
   "cell_type": "code",
   "execution_count": 4,
   "id": "e2c8d28f",
   "metadata": {
    "execution": {
     "iopub.execute_input": "2024-09-06T17:29:03.083638Z",
     "iopub.status.busy": "2024-09-06T17:29:03.083147Z",
     "iopub.status.idle": "2024-09-06T17:29:06.221370Z",
     "shell.execute_reply": "2024-09-06T17:29:06.219724Z"
    },
    "papermill": {
     "duration": 3.168924,
     "end_time": "2024-09-06T17:29:06.224795",
     "exception": false,
     "start_time": "2024-09-06T17:29:03.055871",
     "status": "completed"
    },
    "tags": []
   },
   "outputs": [],
   "source": [
    "from zipfile import ZipFile\n",
    "from pathlib import Path\n",
    "\n",
    "# set the path for train and test\n",
    "output_path = Path('/kaggle/working/data')\n",
    "output_path.mkdir(exist_ok=True)\n",
    "\n",
    "# extract the train file \n",
    "train_zip = ZipFile('/kaggle/input/nyc-taxi-trip-duration/train.zip')\n",
    "train_zip.extractall(output_path/'train')\n",
    "\n",
    "# extract the test file\n",
    "test_zip = ZipFile('/kaggle/input/nyc-taxi-trip-duration/test.zip')\n",
    "test_zip.extractall(output_path/'test')"
   ]
  },
  {
   "cell_type": "code",
   "execution_count": 5,
   "id": "eced64dc",
   "metadata": {
    "execution": {
     "iopub.execute_input": "2024-09-06T17:29:06.276634Z",
     "iopub.status.busy": "2024-09-06T17:29:06.275427Z",
     "iopub.status.idle": "2024-09-06T17:29:06.283890Z",
     "shell.execute_reply": "2024-09-06T17:29:06.282125Z"
    },
    "papermill": {
     "duration": 0.037973,
     "end_time": "2024-09-06T17:29:06.287511",
     "exception": false,
     "start_time": "2024-09-06T17:29:06.249538",
     "status": "completed"
    },
    "tags": []
   },
   "outputs": [
    {
     "name": "stdout",
     "output_type": "stream",
     "text": [
      "The data path exists\n"
     ]
    }
   ],
   "source": [
    "# checking if data path exist or not \n",
    "\n",
    "training_data_path = Path('/kaggle/working/data/train/train.csv')\n",
    "\n",
    "if training_data_path.exists():\n",
    "    print('The data path exists')\n",
    "else:\n",
    "    print('The data path does not exist')"
   ]
  },
  {
   "cell_type": "code",
   "execution_count": 6,
   "id": "7e9d70b6",
   "metadata": {
    "execution": {
     "iopub.execute_input": "2024-09-06T17:29:06.338461Z",
     "iopub.status.busy": "2024-09-06T17:29:06.337974Z",
     "iopub.status.idle": "2024-09-06T17:29:12.935163Z",
     "shell.execute_reply": "2024-09-06T17:29:12.933727Z"
    },
    "papermill": {
     "duration": 6.625304,
     "end_time": "2024-09-06T17:29:12.938068",
     "exception": false,
     "start_time": "2024-09-06T17:29:06.312764",
     "status": "completed"
    },
    "tags": []
   },
   "outputs": [
    {
     "data": {
      "text/html": [
       "<div>\n",
       "<style scoped>\n",
       "    .dataframe tbody tr th:only-of-type {\n",
       "        vertical-align: middle;\n",
       "    }\n",
       "\n",
       "    .dataframe tbody tr th {\n",
       "        vertical-align: top;\n",
       "    }\n",
       "\n",
       "    .dataframe thead th {\n",
       "        text-align: right;\n",
       "    }\n",
       "</style>\n",
       "<table border=\"1\" class=\"dataframe\">\n",
       "  <thead>\n",
       "    <tr style=\"text-align: right;\">\n",
       "      <th></th>\n",
       "      <th>id</th>\n",
       "      <th>vendor_id</th>\n",
       "      <th>pickup_datetime</th>\n",
       "      <th>dropoff_datetime</th>\n",
       "      <th>passenger_count</th>\n",
       "      <th>pickup_longitude</th>\n",
       "      <th>pickup_latitude</th>\n",
       "      <th>dropoff_longitude</th>\n",
       "      <th>dropoff_latitude</th>\n",
       "      <th>store_and_fwd_flag</th>\n",
       "      <th>trip_duration</th>\n",
       "    </tr>\n",
       "  </thead>\n",
       "  <tbody>\n",
       "    <tr>\n",
       "      <th>0</th>\n",
       "      <td>id2875421</td>\n",
       "      <td>2</td>\n",
       "      <td>2016-03-14 17:24:55</td>\n",
       "      <td>2016-03-14 17:32:30</td>\n",
       "      <td>1</td>\n",
       "      <td>-73.982155</td>\n",
       "      <td>40.767937</td>\n",
       "      <td>-73.964630</td>\n",
       "      <td>40.765602</td>\n",
       "      <td>N</td>\n",
       "      <td>455</td>\n",
       "    </tr>\n",
       "    <tr>\n",
       "      <th>1</th>\n",
       "      <td>id2377394</td>\n",
       "      <td>1</td>\n",
       "      <td>2016-06-12 00:43:35</td>\n",
       "      <td>2016-06-12 00:54:38</td>\n",
       "      <td>1</td>\n",
       "      <td>-73.980415</td>\n",
       "      <td>40.738564</td>\n",
       "      <td>-73.999481</td>\n",
       "      <td>40.731152</td>\n",
       "      <td>N</td>\n",
       "      <td>663</td>\n",
       "    </tr>\n",
       "    <tr>\n",
       "      <th>2</th>\n",
       "      <td>id3858529</td>\n",
       "      <td>2</td>\n",
       "      <td>2016-01-19 11:35:24</td>\n",
       "      <td>2016-01-19 12:10:48</td>\n",
       "      <td>1</td>\n",
       "      <td>-73.979027</td>\n",
       "      <td>40.763939</td>\n",
       "      <td>-74.005333</td>\n",
       "      <td>40.710087</td>\n",
       "      <td>N</td>\n",
       "      <td>2124</td>\n",
       "    </tr>\n",
       "    <tr>\n",
       "      <th>3</th>\n",
       "      <td>id3504673</td>\n",
       "      <td>2</td>\n",
       "      <td>2016-04-06 19:32:31</td>\n",
       "      <td>2016-04-06 19:39:40</td>\n",
       "      <td>1</td>\n",
       "      <td>-74.010040</td>\n",
       "      <td>40.719971</td>\n",
       "      <td>-74.012268</td>\n",
       "      <td>40.706718</td>\n",
       "      <td>N</td>\n",
       "      <td>429</td>\n",
       "    </tr>\n",
       "    <tr>\n",
       "      <th>4</th>\n",
       "      <td>id2181028</td>\n",
       "      <td>2</td>\n",
       "      <td>2016-03-26 13:30:55</td>\n",
       "      <td>2016-03-26 13:38:10</td>\n",
       "      <td>1</td>\n",
       "      <td>-73.973053</td>\n",
       "      <td>40.793209</td>\n",
       "      <td>-73.972923</td>\n",
       "      <td>40.782520</td>\n",
       "      <td>N</td>\n",
       "      <td>435</td>\n",
       "    </tr>\n",
       "  </tbody>\n",
       "</table>\n",
       "</div>"
      ],
      "text/plain": [
       "          id  vendor_id      pickup_datetime     dropoff_datetime  \\\n",
       "0  id2875421          2  2016-03-14 17:24:55  2016-03-14 17:32:30   \n",
       "1  id2377394          1  2016-06-12 00:43:35  2016-06-12 00:54:38   \n",
       "2  id3858529          2  2016-01-19 11:35:24  2016-01-19 12:10:48   \n",
       "3  id3504673          2  2016-04-06 19:32:31  2016-04-06 19:39:40   \n",
       "4  id2181028          2  2016-03-26 13:30:55  2016-03-26 13:38:10   \n",
       "\n",
       "   passenger_count  pickup_longitude  pickup_latitude  dropoff_longitude  \\\n",
       "0                1        -73.982155        40.767937         -73.964630   \n",
       "1                1        -73.980415        40.738564         -73.999481   \n",
       "2                1        -73.979027        40.763939         -74.005333   \n",
       "3                1        -74.010040        40.719971         -74.012268   \n",
       "4                1        -73.973053        40.793209         -73.972923   \n",
       "\n",
       "   dropoff_latitude store_and_fwd_flag  trip_duration  \n",
       "0         40.765602                  N            455  \n",
       "1         40.731152                  N            663  \n",
       "2         40.710087                  N           2124  \n",
       "3         40.706718                  N            429  \n",
       "4         40.782520                  N            435  "
      ]
     },
     "execution_count": 6,
     "metadata": {},
     "output_type": "execute_result"
    }
   ],
   "source": [
    "train_df = pd.read_csv(training_data_path)\n",
    "train_df.head()"
   ]
  },
  {
   "cell_type": "code",
   "execution_count": 7,
   "id": "bd9415e1",
   "metadata": {
    "execution": {
     "iopub.execute_input": "2024-09-06T17:29:12.989409Z",
     "iopub.status.busy": "2024-09-06T17:29:12.988933Z",
     "iopub.status.idle": "2024-09-06T17:29:12.997165Z",
     "shell.execute_reply": "2024-09-06T17:29:12.995746Z"
    },
    "papermill": {
     "duration": 0.036948,
     "end_time": "2024-09-06T17:29:12.999830",
     "exception": false,
     "start_time": "2024-09-06T17:29:12.962882",
     "status": "completed"
    },
    "tags": []
   },
   "outputs": [
    {
     "data": {
      "text/plain": [
       "(1458644, 11)"
      ]
     },
     "execution_count": 7,
     "metadata": {},
     "output_type": "execute_result"
    }
   ],
   "source": [
    "train_df.shape"
   ]
  },
  {
   "cell_type": "code",
   "execution_count": 8,
   "id": "62282f1d",
   "metadata": {
    "execution": {
     "iopub.execute_input": "2024-09-06T17:29:13.051647Z",
     "iopub.status.busy": "2024-09-06T17:29:13.051186Z",
     "iopub.status.idle": "2024-09-06T17:29:13.268549Z",
     "shell.execute_reply": "2024-09-06T17:29:13.266998Z"
    },
    "papermill": {
     "duration": 0.246419,
     "end_time": "2024-09-06T17:29:13.271123",
     "exception": false,
     "start_time": "2024-09-06T17:29:13.024704",
     "status": "completed"
    },
    "tags": []
   },
   "outputs": [
    {
     "data": {
      "text/plain": [
       "store_and_fwd_flag\n",
       "N    1450599\n",
       "Y       8045\n",
       "Name: count, dtype: int64"
      ]
     },
     "execution_count": 8,
     "metadata": {},
     "output_type": "execute_result"
    }
   ],
   "source": [
    "train_df['store_and_fwd_flag'].value_counts()"
   ]
  },
  {
   "cell_type": "code",
   "execution_count": 9,
   "id": "d601806c",
   "metadata": {
    "execution": {
     "iopub.execute_input": "2024-09-06T17:29:13.322979Z",
     "iopub.status.busy": "2024-09-06T17:29:13.322463Z",
     "iopub.status.idle": "2024-09-06T17:29:16.456925Z",
     "shell.execute_reply": "2024-09-06T17:29:16.455322Z"
    },
    "papermill": {
     "duration": 3.163885,
     "end_time": "2024-09-06T17:29:16.459964",
     "exception": false,
     "start_time": "2024-09-06T17:29:13.296079",
     "status": "completed"
    },
    "tags": []
   },
   "outputs": [
    {
     "data": {
      "text/plain": [
       "id\n",
       "id2875421    1\n",
       "id2249290    1\n",
       "id2484008    1\n",
       "id3901436    1\n",
       "id1265174    1\n",
       "            ..\n",
       "id2478352    1\n",
       "id1159014    1\n",
       "id3007971    1\n",
       "id3965191    1\n",
       "id1209952    1\n",
       "Name: count, Length: 1458644, dtype: int64"
      ]
     },
     "execution_count": 9,
     "metadata": {},
     "output_type": "execute_result"
    }
   ],
   "source": [
    "train_df['id'].value_counts()"
   ]
  },
  {
   "cell_type": "markdown",
   "id": "3c1da6d1",
   "metadata": {
    "papermill": {
     "duration": 0.025309,
     "end_time": "2024-09-06T17:29:16.511868",
     "exception": false,
     "start_time": "2024-09-06T17:29:16.486559",
     "status": "completed"
    },
    "tags": []
   },
   "source": [
    "- `store_and_fwd_flag` column is highly imbalanced\n",
    "- every trip is with unique`id`\n",
    "- So, we remove these two columns"
   ]
  },
  {
   "cell_type": "code",
   "execution_count": 10,
   "id": "8dbece2c",
   "metadata": {
    "execution": {
     "iopub.execute_input": "2024-09-06T17:29:16.567066Z",
     "iopub.status.busy": "2024-09-06T17:29:16.566558Z",
     "iopub.status.idle": "2024-09-06T17:29:16.675852Z",
     "shell.execute_reply": "2024-09-06T17:29:16.674421Z"
    },
    "papermill": {
     "duration": 0.140415,
     "end_time": "2024-09-06T17:29:16.678892",
     "exception": false,
     "start_time": "2024-09-06T17:29:16.538477",
     "status": "completed"
    },
    "tags": []
   },
   "outputs": [],
   "source": [
    "# Drop unwanted columns\n",
    "train_df.drop(columns=['id', 'store_and_fwd_flag'], inplace=True)"
   ]
  },
  {
   "cell_type": "code",
   "execution_count": 11,
   "id": "35f23a53",
   "metadata": {
    "execution": {
     "iopub.execute_input": "2024-09-06T17:29:16.731789Z",
     "iopub.status.busy": "2024-09-06T17:29:16.731252Z",
     "iopub.status.idle": "2024-09-06T17:29:16.739566Z",
     "shell.execute_reply": "2024-09-06T17:29:16.738307Z"
    },
    "papermill": {
     "duration": 0.037877,
     "end_time": "2024-09-06T17:29:16.742257",
     "exception": false,
     "start_time": "2024-09-06T17:29:16.704380",
     "status": "completed"
    },
    "tags": []
   },
   "outputs": [
    {
     "data": {
      "text/plain": [
       "(1458644, 9)"
      ]
     },
     "execution_count": 11,
     "metadata": {},
     "output_type": "execute_result"
    }
   ],
   "source": [
    "train_df.shape"
   ]
  },
  {
   "cell_type": "code",
   "execution_count": 12,
   "id": "0b6d5aab",
   "metadata": {
    "execution": {
     "iopub.execute_input": "2024-09-06T17:29:16.796946Z",
     "iopub.status.busy": "2024-09-06T17:29:16.796396Z",
     "iopub.status.idle": "2024-09-06T17:29:16.816586Z",
     "shell.execute_reply": "2024-09-06T17:29:16.814702Z"
    },
    "papermill": {
     "duration": 0.049968,
     "end_time": "2024-09-06T17:29:16.819532",
     "exception": false,
     "start_time": "2024-09-06T17:29:16.769564",
     "status": "completed"
    },
    "tags": []
   },
   "outputs": [
    {
     "data": {
      "text/html": [
       "<div>\n",
       "<style scoped>\n",
       "    .dataframe tbody tr th:only-of-type {\n",
       "        vertical-align: middle;\n",
       "    }\n",
       "\n",
       "    .dataframe tbody tr th {\n",
       "        vertical-align: top;\n",
       "    }\n",
       "\n",
       "    .dataframe thead th {\n",
       "        text-align: right;\n",
       "    }\n",
       "</style>\n",
       "<table border=\"1\" class=\"dataframe\">\n",
       "  <thead>\n",
       "    <tr style=\"text-align: right;\">\n",
       "      <th></th>\n",
       "      <th>vendor_id</th>\n",
       "      <th>pickup_datetime</th>\n",
       "      <th>dropoff_datetime</th>\n",
       "      <th>passenger_count</th>\n",
       "      <th>pickup_longitude</th>\n",
       "      <th>pickup_latitude</th>\n",
       "      <th>dropoff_longitude</th>\n",
       "      <th>dropoff_latitude</th>\n",
       "      <th>trip_duration</th>\n",
       "    </tr>\n",
       "  </thead>\n",
       "  <tbody>\n",
       "    <tr>\n",
       "      <th>0</th>\n",
       "      <td>2</td>\n",
       "      <td>2016-03-14 17:24:55</td>\n",
       "      <td>2016-03-14 17:32:30</td>\n",
       "      <td>1</td>\n",
       "      <td>-73.982155</td>\n",
       "      <td>40.767937</td>\n",
       "      <td>-73.964630</td>\n",
       "      <td>40.765602</td>\n",
       "      <td>455</td>\n",
       "    </tr>\n",
       "    <tr>\n",
       "      <th>1</th>\n",
       "      <td>1</td>\n",
       "      <td>2016-06-12 00:43:35</td>\n",
       "      <td>2016-06-12 00:54:38</td>\n",
       "      <td>1</td>\n",
       "      <td>-73.980415</td>\n",
       "      <td>40.738564</td>\n",
       "      <td>-73.999481</td>\n",
       "      <td>40.731152</td>\n",
       "      <td>663</td>\n",
       "    </tr>\n",
       "    <tr>\n",
       "      <th>2</th>\n",
       "      <td>2</td>\n",
       "      <td>2016-01-19 11:35:24</td>\n",
       "      <td>2016-01-19 12:10:48</td>\n",
       "      <td>1</td>\n",
       "      <td>-73.979027</td>\n",
       "      <td>40.763939</td>\n",
       "      <td>-74.005333</td>\n",
       "      <td>40.710087</td>\n",
       "      <td>2124</td>\n",
       "    </tr>\n",
       "    <tr>\n",
       "      <th>3</th>\n",
       "      <td>2</td>\n",
       "      <td>2016-04-06 19:32:31</td>\n",
       "      <td>2016-04-06 19:39:40</td>\n",
       "      <td>1</td>\n",
       "      <td>-74.010040</td>\n",
       "      <td>40.719971</td>\n",
       "      <td>-74.012268</td>\n",
       "      <td>40.706718</td>\n",
       "      <td>429</td>\n",
       "    </tr>\n",
       "    <tr>\n",
       "      <th>4</th>\n",
       "      <td>2</td>\n",
       "      <td>2016-03-26 13:30:55</td>\n",
       "      <td>2016-03-26 13:38:10</td>\n",
       "      <td>1</td>\n",
       "      <td>-73.973053</td>\n",
       "      <td>40.793209</td>\n",
       "      <td>-73.972923</td>\n",
       "      <td>40.782520</td>\n",
       "      <td>435</td>\n",
       "    </tr>\n",
       "  </tbody>\n",
       "</table>\n",
       "</div>"
      ],
      "text/plain": [
       "   vendor_id      pickup_datetime     dropoff_datetime  passenger_count  \\\n",
       "0          2  2016-03-14 17:24:55  2016-03-14 17:32:30                1   \n",
       "1          1  2016-06-12 00:43:35  2016-06-12 00:54:38                1   \n",
       "2          2  2016-01-19 11:35:24  2016-01-19 12:10:48                1   \n",
       "3          2  2016-04-06 19:32:31  2016-04-06 19:39:40                1   \n",
       "4          2  2016-03-26 13:30:55  2016-03-26 13:38:10                1   \n",
       "\n",
       "   pickup_longitude  pickup_latitude  dropoff_longitude  dropoff_latitude  \\\n",
       "0        -73.982155        40.767937         -73.964630         40.765602   \n",
       "1        -73.980415        40.738564         -73.999481         40.731152   \n",
       "2        -73.979027        40.763939         -74.005333         40.710087   \n",
       "3        -74.010040        40.719971         -74.012268         40.706718   \n",
       "4        -73.973053        40.793209         -73.972923         40.782520   \n",
       "\n",
       "   trip_duration  \n",
       "0            455  \n",
       "1            663  \n",
       "2           2124  \n",
       "3            429  \n",
       "4            435  "
      ]
     },
     "execution_count": 12,
     "metadata": {},
     "output_type": "execute_result"
    }
   ],
   "source": [
    "train_df.head()"
   ]
  },
  {
   "cell_type": "code",
   "execution_count": 13,
   "id": "902e53b0",
   "metadata": {
    "execution": {
     "iopub.execute_input": "2024-09-06T17:29:16.872465Z",
     "iopub.status.busy": "2024-09-06T17:29:16.871129Z",
     "iopub.status.idle": "2024-09-06T17:29:26.743185Z",
     "shell.execute_reply": "2024-09-06T17:29:26.741811Z"
    },
    "papermill": {
     "duration": 9.901452,
     "end_time": "2024-09-06T17:29:26.745937",
     "exception": false,
     "start_time": "2024-09-06T17:29:16.844485",
     "status": "completed"
    },
    "tags": []
   },
   "outputs": [
    {
     "data": {
      "text/plain": [
       "<Axes: xlabel='trip_duration', ylabel='Density'>"
      ]
     },
     "execution_count": 13,
     "metadata": {},
     "output_type": "execute_result"
    },
    {
     "data": {
      "image/png": "[encoded data removed]",
      "text/plain": [
       "<Figure size 640x480 with 1 Axes>"
      ]
     },
     "metadata": {},
     "output_type": "display_data"
    }
   ],
   "source": [
    "import seaborn as sns\n",
    "sns.kdeplot(train_df['trip_duration'])"
   ]
  },
  {
   "cell_type": "code",
   "execution_count": 14,
   "id": "0a5a02fe",
   "metadata": {
    "execution": {
     "iopub.execute_input": "2024-09-06T17:29:26.801301Z",
     "iopub.status.busy": "2024-09-06T17:29:26.800518Z",
     "iopub.status.idle": "2024-09-06T17:29:34.580066Z",
     "shell.execute_reply": "2024-09-06T17:29:34.578454Z"
    },
    "papermill": {
     "duration": 7.812285,
     "end_time": "2024-09-06T17:29:34.583772",
     "exception": false,
     "start_time": "2024-09-06T17:29:26.771487",
     "status": "completed"
    },
    "tags": []
   },
   "outputs": [
    {
     "data": {
      "text/plain": [
       "<Axes: xlabel='trip_duration', ylabel='Density'>"
      ]
     },
     "execution_count": 14,
     "metadata": {},
     "output_type": "execute_result"
    },
    {
     "data": {
      "image/png": "[encoded data removed]",
      "text/plain": [
       "<Figure size 640x480 with 1 Axes>"
      ]
     },
     "metadata": {},
     "output_type": "display_data"
    }
   ],
   "source": [
    "sns.kdeplot(train_df['trip_duration'], bw_adjust=1)"
   ]
  },
  {
   "cell_type": "code",
   "execution_count": 15,
   "id": "d9f9c89c",
   "metadata": {
    "execution": {
     "iopub.execute_input": "2024-09-06T17:29:34.640507Z",
     "iopub.status.busy": "2024-09-06T17:29:34.639979Z",
     "iopub.status.idle": "2024-09-06T17:29:34.668389Z",
     "shell.execute_reply": "2024-09-06T17:29:34.666836Z"
    },
    "papermill": {
     "duration": 0.060745,
     "end_time": "2024-09-06T17:29:34.671410",
     "exception": false,
     "start_time": "2024-09-06T17:29:34.610665",
     "status": "completed"
    },
    "tags": []
   },
   "outputs": [
    {
     "data": {
      "text/plain": [
       "343.1639435917362"
      ]
     },
     "execution_count": 15,
     "metadata": {},
     "output_type": "execute_result"
    }
   ],
   "source": [
    "train_df['trip_duration'].skew()"
   ]
  },
  {
   "cell_type": "markdown",
   "id": "2c840a05",
   "metadata": {
    "papermill": {
     "duration": 0.02771,
     "end_time": "2024-09-06T17:29:34.725704",
     "exception": false,
     "start_time": "2024-09-06T17:29:34.697994",
     "status": "completed"
    },
    "tags": []
   },
   "source": [
    "### apply powertransformer"
   ]
  },
  {
   "cell_type": "code",
   "execution_count": 16,
   "id": "d13d0aea",
   "metadata": {
    "execution": {
     "iopub.execute_input": "2024-09-06T17:29:34.783468Z",
     "iopub.status.busy": "2024-09-06T17:29:34.782884Z",
     "iopub.status.idle": "2024-09-06T17:29:34.988688Z",
     "shell.execute_reply": "2024-09-06T17:29:34.987232Z"
    },
    "papermill": {
     "duration": 0.239023,
     "end_time": "2024-09-06T17:29:34.991914",
     "exception": false,
     "start_time": "2024-09-06T17:29:34.752891",
     "status": "completed"
    },
    "tags": []
   },
   "outputs": [],
   "source": [
    "from sklearn.preprocessing import PowerTransformer\n",
    "transformer = PowerTransformer(method='yeo-johnson')\n"
   ]
  },
  {
   "cell_type": "code",
   "execution_count": 17,
   "id": "9397e05c",
   "metadata": {
    "execution": {
     "iopub.execute_input": "2024-09-06T17:29:35.047558Z",
     "iopub.status.busy": "2024-09-06T17:29:35.047023Z",
     "iopub.status.idle": "2024-09-06T17:29:37.415570Z",
     "shell.execute_reply": "2024-09-06T17:29:37.413901Z"
    },
    "papermill": {
     "duration": 2.40099,
     "end_time": "2024-09-06T17:29:37.419443",
     "exception": false,
     "start_time": "2024-09-06T17:29:35.018453",
     "status": "completed"
    },
    "tags": []
   },
   "outputs": [],
   "source": [
    "ftr = transformer.fit_transform(train_df[['trip_duration']])"
   ]
  },
  {
   "cell_type": "code",
   "execution_count": 18,
   "id": "d9400a84",
   "metadata": {
    "execution": {
     "iopub.execute_input": "2024-09-06T17:29:37.476146Z",
     "iopub.status.busy": "2024-09-06T17:29:37.475682Z",
     "iopub.status.idle": "2024-09-06T17:29:44.821948Z",
     "shell.execute_reply": "2024-09-06T17:29:44.820591Z"
    },
    "papermill": {
     "duration": 7.377944,
     "end_time": "2024-09-06T17:29:44.824987",
     "exception": false,
     "start_time": "2024-09-06T17:29:37.447043",
     "status": "completed"
    },
    "tags": []
   },
   "outputs": [
    {
     "data": {
      "text/plain": [
       "<Axes: ylabel='Density'>"
      ]
     },
     "execution_count": 18,
     "metadata": {},
     "output_type": "execute_result"
    },
    {
     "data": {
      "image/png": "[encoded data removed]",
      "text/plain": [
       "<Figure size 640x480 with 1 Axes>"
      ]
     },
     "metadata": {},
     "output_type": "display_data"
    }
   ],
   "source": [
    "sns.kdeplot(ftr)"
   ]
  },
  {
   "cell_type": "code",
   "execution_count": 19,
   "id": "ecaa9e96",
   "metadata": {
    "execution": {
     "iopub.execute_input": "2024-09-06T17:29:44.883484Z",
     "iopub.status.busy": "2024-09-06T17:29:44.882126Z",
     "iopub.status.idle": "2024-09-06T17:29:44.888795Z",
     "shell.execute_reply": "2024-09-06T17:29:44.887319Z"
    },
    "papermill": {
     "duration": 0.03956,
     "end_time": "2024-09-06T17:29:44.892125",
     "exception": false,
     "start_time": "2024-09-06T17:29:44.852565",
     "status": "completed"
    },
    "tags": []
   },
   "outputs": [],
   "source": [
    "ftr_series = ftr.squeeze()"
   ]
  },
  {
   "cell_type": "code",
   "execution_count": 20,
   "id": "922f22aa",
   "metadata": {
    "execution": {
     "iopub.execute_input": "2024-09-06T17:29:44.949966Z",
     "iopub.status.busy": "2024-09-06T17:29:44.949509Z",
     "iopub.status.idle": "2024-09-06T17:29:44.979599Z",
     "shell.execute_reply": "2024-09-06T17:29:44.977867Z"
    },
    "papermill": {
     "duration": 0.062458,
     "end_time": "2024-09-06T17:29:44.982917",
     "exception": false,
     "start_time": "2024-09-06T17:29:44.920459",
     "status": "completed"
    },
    "tags": []
   },
   "outputs": [
    {
     "data": {
      "text/plain": [
       "0.05206556901945714"
      ]
     },
     "execution_count": 20,
     "metadata": {},
     "output_type": "execute_result"
    }
   ],
   "source": [
    "pd.Series(ftr_series).skew()"
   ]
  },
  {
   "cell_type": "markdown",
   "id": "9e60be3b",
   "metadata": {
    "papermill": {
     "duration": 0.027524,
     "end_time": "2024-09-06T17:29:45.040651",
     "exception": false,
     "start_time": "2024-09-06T17:29:45.013127",
     "status": "completed"
    },
    "tags": []
   },
   "source": [
    "## apply log transformation"
   ]
  },
  {
   "cell_type": "code",
   "execution_count": 21,
   "id": "58b293f1",
   "metadata": {
    "execution": {
     "iopub.execute_input": "2024-09-06T17:29:45.100643Z",
     "iopub.status.busy": "2024-09-06T17:29:45.100149Z",
     "iopub.status.idle": "2024-09-06T17:29:45.119990Z",
     "shell.execute_reply": "2024-09-06T17:29:45.118606Z"
    },
    "papermill": {
     "duration": 0.053885,
     "end_time": "2024-09-06T17:29:45.123187",
     "exception": false,
     "start_time": "2024-09-06T17:29:45.069302",
     "status": "completed"
    },
    "tags": []
   },
   "outputs": [],
   "source": [
    "target_log_trans = train_df['trip_duration'].apply(np.log)"
   ]
  },
  {
   "cell_type": "code",
   "execution_count": 22,
   "id": "d472ebad",
   "metadata": {
    "execution": {
     "iopub.execute_input": "2024-09-06T17:29:45.184444Z",
     "iopub.status.busy": "2024-09-06T17:29:45.183885Z",
     "iopub.status.idle": "2024-09-06T17:29:53.184221Z",
     "shell.execute_reply": "2024-09-06T17:29:53.182779Z"
    },
    "papermill": {
     "duration": 8.035121,
     "end_time": "2024-09-06T17:29:53.187655",
     "exception": false,
     "start_time": "2024-09-06T17:29:45.152534",
     "status": "completed"
    },
    "tags": []
   },
   "outputs": [
    {
     "data": {
      "text/plain": [
       "<Axes: xlabel='trip_duration', ylabel='Density'>"
      ]
     },
     "execution_count": 22,
     "metadata": {},
     "output_type": "execute_result"
    },
    {
     "data": {
      "image/png": "[encoded data removed]",
      "text/plain": [
       "<Figure size 640x480 with 1 Axes>"
      ]
     },
     "metadata": {},
     "output_type": "display_data"
    }
   ],
   "source": [
    "sns.kdeplot(target_log_trans)"
   ]
  },
  {
   "cell_type": "code",
   "execution_count": 23,
   "id": "b0313286",
   "metadata": {
    "execution": {
     "iopub.execute_input": "2024-09-06T17:29:53.251788Z",
     "iopub.status.busy": "2024-09-06T17:29:53.251181Z",
     "iopub.status.idle": "2024-09-06T17:29:53.287182Z",
     "shell.execute_reply": "2024-09-06T17:29:53.285514Z"
    },
    "papermill": {
     "duration": 0.07354,
     "end_time": "2024-09-06T17:29:53.291040",
     "exception": false,
     "start_time": "2024-09-06T17:29:53.217500",
     "status": "completed"
    },
    "tags": []
   },
   "outputs": [
    {
     "data": {
      "text/plain": [
       "-0.34070423044801745"
      ]
     },
     "execution_count": 23,
     "metadata": {},
     "output_type": "execute_result"
    }
   ],
   "source": [
    "target_log_trans.skew()"
   ]
  },
  {
   "cell_type": "markdown",
   "id": "6cd23bfd",
   "metadata": {
    "papermill": {
     "duration": 0.027632,
     "end_time": "2024-09-06T17:29:53.413791",
     "exception": false,
     "start_time": "2024-09-06T17:29:53.386159",
     "status": "completed"
    },
    "tags": []
   },
   "source": [
    "**-  the distribution of power transformation is less skewed as compare to log transformation**"
   ]
  },
  {
   "cell_type": "code",
   "execution_count": 24,
   "id": "c5c26461",
   "metadata": {
    "execution": {
     "iopub.execute_input": "2024-09-06T17:29:53.473348Z",
     "iopub.status.busy": "2024-09-06T17:29:53.472771Z",
     "iopub.status.idle": "2024-09-06T17:29:53.487854Z",
     "shell.execute_reply": "2024-09-06T17:29:53.486013Z"
    },
    "papermill": {
     "duration": 0.049392,
     "end_time": "2024-09-06T17:29:53.491276",
     "exception": false,
     "start_time": "2024-09-06T17:29:53.441884",
     "status": "completed"
    },
    "tags": []
   },
   "outputs": [
    {
     "name": "stdout",
     "output_type": "stream",
     "text": [
      "min value of trip in seconds:  1\n",
      "max value of trip in days:  58771.36666666667\n",
      "average value of trip in hrs:  15.991537882672764\n"
     ]
    }
   ],
   "source": [
    "print('min value of trip in seconds: ', train_df['trip_duration'].min())\n",
    "print('max value of trip in days: ', train_df['trip_duration'].max()/(60))\n",
    "print('average value of trip in hrs: ', train_df['trip_duration'].mean()/(60))"
   ]
  },
  {
   "cell_type": "code",
   "execution_count": 25,
   "id": "61887dcb",
   "metadata": {
    "execution": {
     "iopub.execute_input": "2024-09-06T17:29:53.557360Z",
     "iopub.status.busy": "2024-09-06T17:29:53.556759Z",
     "iopub.status.idle": "2024-09-06T17:29:54.170705Z",
     "shell.execute_reply": "2024-09-06T17:29:54.169226Z"
    },
    "papermill": {
     "duration": 0.651078,
     "end_time": "2024-09-06T17:29:54.173853",
     "exception": false,
     "start_time": "2024-09-06T17:29:53.522775",
     "status": "completed"
    },
    "tags": []
   },
   "outputs": [
    {
     "data": {
      "text/plain": [
       "<Axes: xlabel='trip_duration'>"
      ]
     },
     "execution_count": 25,
     "metadata": {},
     "output_type": "execute_result"
    },
    {
     "data": {
      "image/png": "[encoded data removed]",
      "text/plain": [
       "<Figure size 640x480 with 1 Axes>"
      ]
     },
     "metadata": {},
     "output_type": "display_data"
    }
   ],
   "source": [
    "sns.boxplot(data=train_df, x='trip_duration')"
   ]
  },
  {
   "cell_type": "code",
   "execution_count": 26,
   "id": "1e586f2b",
   "metadata": {
    "execution": {
     "iopub.execute_input": "2024-09-06T17:29:54.235244Z",
     "iopub.status.busy": "2024-09-06T17:29:54.234682Z",
     "iopub.status.idle": "2024-09-06T17:29:54.630638Z",
     "shell.execute_reply": "2024-09-06T17:29:54.628691Z"
    },
    "papermill": {
     "duration": 0.430885,
     "end_time": "2024-09-06T17:29:54.633988",
     "exception": false,
     "start_time": "2024-09-06T17:29:54.203103",
     "status": "completed"
    },
    "tags": []
   },
   "outputs": [
    {
     "data": {
      "text/plain": [
       "<Axes: >"
      ]
     },
     "execution_count": 26,
     "metadata": {},
     "output_type": "execute_result"
    },
    {
     "data": {
      "image/png": "[encoded data removed]",
      "text/plain": [
       "<Figure size 640x480 with 1 Axes>"
      ]
     },
     "metadata": {},
     "output_type": "display_data"
    }
   ],
   "source": [
    "# box plot on powertransformed data\n",
    "\n",
    "sns.boxplot(ftr)"
   ]
  },
  {
   "cell_type": "code",
   "execution_count": 27,
   "id": "8ebb90ea",
   "metadata": {
    "execution": {
     "iopub.execute_input": "2024-09-06T17:29:54.696711Z",
     "iopub.status.busy": "2024-09-06T17:29:54.695741Z",
     "iopub.status.idle": "2024-09-06T17:29:54.707516Z",
     "shell.execute_reply": "2024-09-06T17:29:54.705516Z"
    },
    "papermill": {
     "duration": 0.047203,
     "end_time": "2024-09-06T17:29:54.711080",
     "exception": false,
     "start_time": "2024-09-06T17:29:54.663877",
     "status": "completed"
    },
    "tags": []
   },
   "outputs": [
    {
     "data": {
      "text/plain": [
       "13.45427437691909"
      ]
     },
     "execution_count": 27,
     "metadata": {},
     "output_type": "execute_result"
    }
   ],
   "source": [
    "ftr.max()"
   ]
  },
  {
   "cell_type": "code",
   "execution_count": 28,
   "id": "dad12964",
   "metadata": {
    "execution": {
     "iopub.execute_input": "2024-09-06T17:29:54.778668Z",
     "iopub.status.busy": "2024-09-06T17:29:54.777321Z",
     "iopub.status.idle": "2024-09-06T17:29:54.884836Z",
     "shell.execute_reply": "2024-09-06T17:29:54.883076Z"
    },
    "papermill": {
     "duration": 0.142785,
     "end_time": "2024-09-06T17:29:54.888349",
     "exception": false,
     "start_time": "2024-09-06T17:29:54.745564",
     "status": "completed"
    },
    "tags": []
   },
   "outputs": [],
   "source": [
    "# target below 200 minutes\n",
    "\n",
    "dur_thres = 200*60\n",
    "\n",
    "target_below_200 = train_df[train_df['trip_duration']<dur_thres]"
   ]
  },
  {
   "cell_type": "code",
   "execution_count": 29,
   "id": "dbe0aee7",
   "metadata": {
    "execution": {
     "iopub.execute_input": "2024-09-06T17:29:54.954286Z",
     "iopub.status.busy": "2024-09-06T17:29:54.953791Z",
     "iopub.status.idle": "2024-09-06T17:29:54.963562Z",
     "shell.execute_reply": "2024-09-06T17:29:54.961908Z"
    },
    "papermill": {
     "duration": 0.047557,
     "end_time": "2024-09-06T17:29:54.966698",
     "exception": false,
     "start_time": "2024-09-06T17:29:54.919141",
     "status": "completed"
    },
    "tags": []
   },
   "outputs": [
    {
     "data": {
      "text/plain": [
       "2096"
      ]
     },
     "execution_count": 29,
     "metadata": {},
     "output_type": "execute_result"
    }
   ],
   "source": [
    "train_df.shape[0] - target_below_200.shape[0]"
   ]
  },
  {
   "cell_type": "code",
   "execution_count": 30,
   "id": "55079096",
   "metadata": {
    "execution": {
     "iopub.execute_input": "2024-09-06T17:29:55.031685Z",
     "iopub.status.busy": "2024-09-06T17:29:55.030445Z",
     "iopub.status.idle": "2024-09-06T17:29:55.039095Z",
     "shell.execute_reply": "2024-09-06T17:29:55.037442Z"
    },
    "papermill": {
     "duration": 0.044569,
     "end_time": "2024-09-06T17:29:55.042394",
     "exception": false,
     "start_time": "2024-09-06T17:29:54.997825",
     "status": "completed"
    },
    "tags": []
   },
   "outputs": [
    {
     "name": "stdout",
     "output_type": "stream",
     "text": [
      "Number of rows drop when trip duration above 200 minutes:  2096\n",
      "Percentage of rows drop when trip duration above 200 minutes:  0.14%\n"
     ]
    }
   ],
   "source": [
    "print('Number of rows drop when trip duration above 200 minutes: ', train_df.shape[0]-target_below_200.shape[0])\n",
    "print('Percentage of rows drop when trip duration above 200 minutes: ', f'{(train_df.shape[0]-target_below_200.shape[0])/train_df.shape[0]:.2%}')"
   ]
  },
  {
   "cell_type": "markdown",
   "id": "834d760c",
   "metadata": {
    "papermill": {
     "duration": 0.032193,
     "end_time": "2024-09-06T17:29:55.106097",
     "exception": false,
     "start_time": "2024-09-06T17:29:55.073904",
     "status": "completed"
    },
    "tags": []
   },
   "source": [
    "**Not a lot of data removes as compare to total size of data**"
   ]
  },
  {
   "cell_type": "code",
   "execution_count": 31,
   "id": "39e196e9",
   "metadata": {
    "execution": {
     "iopub.execute_input": "2024-09-06T17:29:55.170688Z",
     "iopub.status.busy": "2024-09-06T17:29:55.170195Z",
     "iopub.status.idle": "2024-09-06T17:29:55.779242Z",
     "shell.execute_reply": "2024-09-06T17:29:55.777385Z"
    },
    "papermill": {
     "duration": 0.645736,
     "end_time": "2024-09-06T17:29:55.783431",
     "exception": false,
     "start_time": "2024-09-06T17:29:55.137695",
     "status": "completed"
    },
    "tags": []
   },
   "outputs": [
    {
     "data": {
      "text/plain": [
       "<Axes: ylabel='trip_duration'>"
      ]
     },
     "execution_count": 31,
     "metadata": {},
     "output_type": "execute_result"
    },
    {
     "data": {
      "image/png": "[encoded data removed]",
      "text/plain": [
       "<Figure size 640x480 with 1 Axes>"
      ]
     },
     "metadata": {},
     "output_type": "display_data"
    }
   ],
   "source": [
    "sns.boxplot(data=target_below_200, y='trip_duration')"
   ]
  },
  {
   "cell_type": "code",
   "execution_count": 32,
   "id": "9f66aadc",
   "metadata": {
    "execution": {
     "iopub.execute_input": "2024-09-06T17:29:55.856618Z",
     "iopub.status.busy": "2024-09-06T17:29:55.854713Z",
     "iopub.status.idle": "2024-09-06T17:30:03.750480Z",
     "shell.execute_reply": "2024-09-06T17:30:03.749128Z"
    },
    "papermill": {
     "duration": 7.934271,
     "end_time": "2024-09-06T17:30:03.754088",
     "exception": false,
     "start_time": "2024-09-06T17:29:55.819817",
     "status": "completed"
    },
    "tags": []
   },
   "outputs": [
    {
     "data": {
      "text/plain": [
       "<Axes: xlabel='trip_duration', ylabel='Density'>"
      ]
     },
     "execution_count": 32,
     "metadata": {},
     "output_type": "execute_result"
    },
    {
     "data": {
      "image/png": "[encoded data removed]",
      "text/plain": [
       "<Figure size 640x480 with 1 Axes>"
      ]
     },
     "metadata": {},
     "output_type": "display_data"
    }
   ],
   "source": [
    "sns.kdeplot(target_below_200['trip_duration'])"
   ]
  },
  {
   "cell_type": "markdown",
   "id": "e01449fe",
   "metadata": {
    "papermill": {
     "duration": 0.03462,
     "end_time": "2024-09-06T17:30:03.822169",
     "exception": false,
     "start_time": "2024-09-06T17:30:03.787549",
     "status": "completed"
    },
    "tags": []
   },
   "source": [
    "power transformation"
   ]
  },
  {
   "cell_type": "code",
   "execution_count": 33,
   "id": "5891fc43",
   "metadata": {
    "execution": {
     "iopub.execute_input": "2024-09-06T17:30:03.899225Z",
     "iopub.status.busy": "2024-09-06T17:30:03.898183Z",
     "iopub.status.idle": "2024-09-06T17:30:03.910932Z",
     "shell.execute_reply": "2024-09-06T17:30:03.909385Z"
    },
    "papermill": {
     "duration": 0.052101,
     "end_time": "2024-09-06T17:30:03.913973",
     "exception": false,
     "start_time": "2024-09-06T17:30:03.861872",
     "status": "completed"
    },
    "tags": []
   },
   "outputs": [
    {
     "data": {
      "text/plain": [
       "0           455\n",
       "1           663\n",
       "2          2124\n",
       "3           429\n",
       "4           435\n",
       "           ... \n",
       "1458639     778\n",
       "1458640     655\n",
       "1458641     764\n",
       "1458642     373\n",
       "1458643     198\n",
       "Name: trip_duration, Length: 1456548, dtype: int64"
      ]
     },
     "execution_count": 33,
     "metadata": {},
     "output_type": "execute_result"
    }
   ],
   "source": [
    "targets_below_200 = target_below_200['trip_duration']\n",
    "targets_below_200"
   ]
  },
  {
   "cell_type": "code",
   "execution_count": 34,
   "id": "734b1d1c",
   "metadata": {
    "execution": {
     "iopub.execute_input": "2024-09-06T17:30:03.980917Z",
     "iopub.status.busy": "2024-09-06T17:30:03.979732Z",
     "iopub.status.idle": "2024-09-06T17:30:06.208765Z",
     "shell.execute_reply": "2024-09-06T17:30:06.207314Z"
    },
    "papermill": {
     "duration": 2.265885,
     "end_time": "2024-09-06T17:30:06.212019",
     "exception": false,
     "start_time": "2024-09-06T17:30:03.946134",
     "status": "completed"
    },
    "tags": []
   },
   "outputs": [
    {
     "data": {
      "text/plain": [
       "array([[-0.50188624],\n",
       "       [-0.01972708],\n",
       "       [ 1.69949474],\n",
       "       ...,\n",
       "       [ 0.17065257],\n",
       "       [-0.74328395],\n",
       "       [-1.45623401]])"
      ]
     },
     "execution_count": 34,
     "metadata": {},
     "output_type": "execute_result"
    }
   ],
   "source": [
    "pt = PowerTransformer(method='yeo-johnson')\n",
    "target_power_trans = pt.fit_transform(targets_below_200.to_frame())\n",
    "target_power_trans"
   ]
  },
  {
   "cell_type": "code",
   "execution_count": 35,
   "id": "99d83268",
   "metadata": {
    "execution": {
     "iopub.execute_input": "2024-09-06T17:30:06.279443Z",
     "iopub.status.busy": "2024-09-06T17:30:06.278954Z",
     "iopub.status.idle": "2024-09-06T17:30:13.886510Z",
     "shell.execute_reply": "2024-09-06T17:30:13.884865Z"
    },
    "papermill": {
     "duration": 7.643764,
     "end_time": "2024-09-06T17:30:13.889229",
     "exception": false,
     "start_time": "2024-09-06T17:30:06.245465",
     "status": "completed"
    },
    "tags": []
   },
   "outputs": [
    {
     "data": {
      "text/plain": [
       "<Axes: ylabel='Density'>"
      ]
     },
     "execution_count": 35,
     "metadata": {},
     "output_type": "execute_result"
    },
    {
     "data": {
      "image/png": "[encoded data removed]",
      "text/plain": [
       "<Figure size 640x480 with 1 Axes>"
      ]
     },
     "metadata": {},
     "output_type": "display_data"
    }
   ],
   "source": [
    "sns.kdeplot(target_power_trans)"
   ]
  },
  {
   "cell_type": "code",
   "execution_count": 36,
   "id": "8c66f66f",
   "metadata": {
    "execution": {
     "iopub.execute_input": "2024-09-06T17:30:13.954659Z",
     "iopub.status.busy": "2024-09-06T17:30:13.954078Z",
     "iopub.status.idle": "2024-09-06T17:30:13.988955Z",
     "shell.execute_reply": "2024-09-06T17:30:13.987414Z"
    },
    "papermill": {
     "duration": 0.071147,
     "end_time": "2024-09-06T17:30:13.992101",
     "exception": false,
     "start_time": "2024-09-06T17:30:13.920954",
     "status": "completed"
    },
    "tags": []
   },
   "outputs": [
    {
     "data": {
      "text/plain": [
       "0.032368541395952605"
      ]
     },
     "execution_count": 36,
     "metadata": {},
     "output_type": "execute_result"
    }
   ],
   "source": [
    "pd.Series(target_power_trans.flatten()).skew()"
   ]
  },
  {
   "cell_type": "code",
   "execution_count": 37,
   "id": "646bf231",
   "metadata": {
    "execution": {
     "iopub.execute_input": "2024-09-06T17:30:14.060722Z",
     "iopub.status.busy": "2024-09-06T17:30:14.058494Z",
     "iopub.status.idle": "2024-09-06T17:30:14.410934Z",
     "shell.execute_reply": "2024-09-06T17:30:14.409282Z"
    },
    "papermill": {
     "duration": 0.389661,
     "end_time": "2024-09-06T17:30:14.413925",
     "exception": false,
     "start_time": "2024-09-06T17:30:14.024264",
     "status": "completed"
    },
    "tags": []
   },
   "outputs": [
    {
     "data": {
      "text/plain": [
       "<Axes: >"
      ]
     },
     "execution_count": 37,
     "metadata": {},
     "output_type": "execute_result"
    },
    {
     "data": {
      "image/png": "[encoded data removed]",
      "text/plain": [
       "<Figure size 640x480 with 1 Axes>"
      ]
     },
     "metadata": {},
     "output_type": "display_data"
    }
   ],
   "source": [
    "sns.boxplot(target_power_trans)"
   ]
  },
  {
   "cell_type": "markdown",
   "id": "5146a462",
   "metadata": {
    "papermill": {
     "duration": 0.033468,
     "end_time": "2024-09-06T17:30:14.481488",
     "exception": false,
     "start_time": "2024-09-06T17:30:14.448020",
     "status": "completed"
    },
    "tags": []
   },
   "source": [
    "log transformation"
   ]
  },
  {
   "cell_type": "code",
   "execution_count": 38,
   "id": "1a0faf23",
   "metadata": {
    "execution": {
     "iopub.execute_input": "2024-09-06T17:30:14.548419Z",
     "iopub.status.busy": "2024-09-06T17:30:14.547927Z",
     "iopub.status.idle": "2024-09-06T17:30:14.569344Z",
     "shell.execute_reply": "2024-09-06T17:30:14.567673Z"
    },
    "papermill": {
     "duration": 0.058633,
     "end_time": "2024-09-06T17:30:14.572733",
     "exception": false,
     "start_time": "2024-09-06T17:30:14.514100",
     "status": "completed"
    },
    "tags": []
   },
   "outputs": [],
   "source": [
    "target_below_200_log = targets_below_200.apply(np.log)"
   ]
  },
  {
   "cell_type": "code",
   "execution_count": 39,
   "id": "e7c7daef",
   "metadata": {
    "execution": {
     "iopub.execute_input": "2024-09-06T17:30:14.642391Z",
     "iopub.status.busy": "2024-09-06T17:30:14.641845Z",
     "iopub.status.idle": "2024-09-06T17:30:22.596390Z",
     "shell.execute_reply": "2024-09-06T17:30:22.594739Z"
    },
    "papermill": {
     "duration": 7.993673,
     "end_time": "2024-09-06T17:30:22.599419",
     "exception": false,
     "start_time": "2024-09-06T17:30:14.605746",
     "status": "completed"
    },
    "tags": []
   },
   "outputs": [
    {
     "data": {
      "text/plain": [
       "<Axes: xlabel='trip_duration', ylabel='Density'>"
      ]
     },
     "execution_count": 39,
     "metadata": {},
     "output_type": "execute_result"
    },
    {
     "data": {
      "image/png": "[encoded data removed]",
      "text/plain": [
       "<Figure size 640x480 with 1 Axes>"
      ]
     },
     "metadata": {},
     "output_type": "display_data"
    }
   ],
   "source": [
    "sns.kdeplot(target_below_200_log)"
   ]
  },
  {
   "cell_type": "code",
   "execution_count": 40,
   "id": "e9fc2102",
   "metadata": {
    "execution": {
     "iopub.execute_input": "2024-09-06T17:30:22.671416Z",
     "iopub.status.busy": "2024-09-06T17:30:22.670854Z",
     "iopub.status.idle": "2024-09-06T17:30:22.702688Z",
     "shell.execute_reply": "2024-09-06T17:30:22.700790Z"
    },
    "papermill": {
     "duration": 0.072301,
     "end_time": "2024-09-06T17:30:22.706058",
     "exception": false,
     "start_time": "2024-09-06T17:30:22.633757",
     "status": "completed"
    },
    "tags": []
   },
   "outputs": [
    {
     "data": {
      "text/plain": [
       "-0.6887975071074691"
      ]
     },
     "execution_count": 40,
     "metadata": {},
     "output_type": "execute_result"
    }
   ],
   "source": [
    "target_below_200_log.skew()"
   ]
  },
  {
   "cell_type": "markdown",
   "id": "82b4f304",
   "metadata": {
    "papermill": {
     "duration": 0.032309,
     "end_time": "2024-09-06T17:30:22.772111",
     "exception": false,
     "start_time": "2024-09-06T17:30:22.739802",
     "status": "completed"
    },
    "tags": []
   },
   "source": [
    "- it is quite evident from the observations that for the given dataset for powertransform work better as compared to the others"
   ]
  },
  {
   "cell_type": "code",
   "execution_count": 41,
   "id": "dab20e7e",
   "metadata": {
    "execution": {
     "iopub.execute_input": "2024-09-06T17:30:22.841507Z",
     "iopub.status.busy": "2024-09-06T17:30:22.840930Z",
     "iopub.status.idle": "2024-09-06T17:30:22.850505Z",
     "shell.execute_reply": "2024-09-06T17:30:22.848742Z"
    },
    "papermill": {
     "duration": 0.048436,
     "end_time": "2024-09-06T17:30:22.853892",
     "exception": false,
     "start_time": "2024-09-06T17:30:22.805456",
     "status": "completed"
    },
    "tags": []
   },
   "outputs": [
    {
     "data": {
      "text/plain": [
       "0.1816048673119821"
      ]
     },
     "execution_count": 41,
     "metadata": {},
     "output_type": "execute_result"
    }
   ],
   "source": [
    "pt.lambdas_[0]"
   ]
  },
  {
   "cell_type": "code",
   "execution_count": 42,
   "id": "a1d1c180",
   "metadata": {
    "execution": {
     "iopub.execute_input": "2024-09-06T17:30:22.925014Z",
     "iopub.status.busy": "2024-09-06T17:30:22.924312Z",
     "iopub.status.idle": "2024-09-06T17:30:33.452503Z",
     "shell.execute_reply": "2024-09-06T17:30:33.451015Z"
    },
    "papermill": {
     "duration": 10.567549,
     "end_time": "2024-09-06T17:30:33.455912",
     "exception": false,
     "start_time": "2024-09-06T17:30:22.888363",
     "status": "completed"
    },
    "tags": []
   },
   "outputs": [
    {
     "data": {
      "text/html": [
       "<div>\n",
       "<style scoped>\n",
       "    .dataframe tbody tr th:only-of-type {\n",
       "        vertical-align: middle;\n",
       "    }\n",
       "\n",
       "    .dataframe tbody tr th {\n",
       "        vertical-align: top;\n",
       "    }\n",
       "\n",
       "    .dataframe thead th {\n",
       "        text-align: right;\n",
       "    }\n",
       "</style>\n",
       "<table border=\"1\" class=\"dataframe\">\n",
       "  <thead>\n",
       "    <tr style=\"text-align: right;\">\n",
       "      <th></th>\n",
       "      <th>methods</th>\n",
       "      <th>skewness</th>\n",
       "      <th>lambdas</th>\n",
       "    </tr>\n",
       "  </thead>\n",
       "  <tbody>\n",
       "    <tr>\n",
       "      <th>0</th>\n",
       "      <td>original</td>\n",
       "      <td>2.337973</td>\n",
       "      <td>NaN</td>\n",
       "    </tr>\n",
       "    <tr>\n",
       "      <th>1</th>\n",
       "      <td>yeo-johnson</td>\n",
       "      <td>0.032369</td>\n",
       "      <td>0.182</td>\n",
       "    </tr>\n",
       "    <tr>\n",
       "      <th>2</th>\n",
       "      <td>box-cox</td>\n",
       "      <td>0.035812</td>\n",
       "      <td>0.187</td>\n",
       "    </tr>\n",
       "  </tbody>\n",
       "</table>\n",
       "</div>"
      ],
      "text/plain": [
       "       methods  skewness lambdas\n",
       "0     original  2.337973     NaN\n",
       "1  yeo-johnson  0.032369   0.182\n",
       "2      box-cox  0.035812   0.187"
      ]
     },
     "execution_count": 42,
     "metadata": {},
     "output_type": "execute_result"
    }
   ],
   "source": [
    "# applying both 'yeo-johnson' and 'box-cox' transformation\n",
    "\n",
    "transformation_methods = ['yeo-johnson', 'box-cox']\n",
    "skewness = [targets_below_200.skew()]\n",
    "methods = ['original']\n",
    "lambdas = [np.NaN]\n",
    "\n",
    "for method in transformation_methods:\n",
    "    methods.append(method)\n",
    "    pt = PowerTransformer(method=method)\n",
    "    target_trans = pt.fit_transform(targets_below_200.to_frame())\n",
    "    target_trans_flat = target_trans.flatten()\n",
    "    skew = pd.Series(target_trans_flat).skew()\n",
    "    skewness.append(skew)\n",
    "    lambdas.append(f'{pt.lambdas_[0]:.3f}')\n",
    "\n",
    "results_df = pd.DataFrame(data={\n",
    "    'methods': methods,\n",
    "    'skewness': skewness,\n",
    "    'lambdas': lambdas\n",
    "})\n",
    "\n",
    "results_df"
   ]
  },
  {
   "cell_type": "markdown",
   "id": "a5b2db3a",
   "metadata": {
    "papermill": {
     "duration": 0.034561,
     "end_time": "2024-09-06T17:30:33.525222",
     "exception": false,
     "start_time": "2024-09-06T17:30:33.490661",
     "status": "completed"
    },
    "tags": []
   },
   "source": [
    "### Outliers Removal from Lat/Long columns"
   ]
  },
  {
   "cell_type": "code",
   "execution_count": 43,
   "id": "f19f043e",
   "metadata": {
    "execution": {
     "iopub.execute_input": "2024-09-06T17:30:33.599192Z",
     "iopub.status.busy": "2024-09-06T17:30:33.598712Z",
     "iopub.status.idle": "2024-09-06T17:30:33.617318Z",
     "shell.execute_reply": "2024-09-06T17:30:33.615766Z"
    },
    "papermill": {
     "duration": 0.059065,
     "end_time": "2024-09-06T17:30:33.620734",
     "exception": false,
     "start_time": "2024-09-06T17:30:33.561669",
     "status": "completed"
    },
    "tags": []
   },
   "outputs": [
    {
     "data": {
      "text/html": [
       "<div>\n",
       "<style scoped>\n",
       "    .dataframe tbody tr th:only-of-type {\n",
       "        vertical-align: middle;\n",
       "    }\n",
       "\n",
       "    .dataframe tbody tr th {\n",
       "        vertical-align: top;\n",
       "    }\n",
       "\n",
       "    .dataframe thead th {\n",
       "        text-align: right;\n",
       "    }\n",
       "</style>\n",
       "<table border=\"1\" class=\"dataframe\">\n",
       "  <thead>\n",
       "    <tr style=\"text-align: right;\">\n",
       "      <th></th>\n",
       "      <th>vendor_id</th>\n",
       "      <th>pickup_datetime</th>\n",
       "      <th>dropoff_datetime</th>\n",
       "      <th>passenger_count</th>\n",
       "      <th>pickup_longitude</th>\n",
       "      <th>pickup_latitude</th>\n",
       "      <th>dropoff_longitude</th>\n",
       "      <th>dropoff_latitude</th>\n",
       "      <th>trip_duration</th>\n",
       "    </tr>\n",
       "  </thead>\n",
       "  <tbody>\n",
       "    <tr>\n",
       "      <th>0</th>\n",
       "      <td>2</td>\n",
       "      <td>2016-03-14 17:24:55</td>\n",
       "      <td>2016-03-14 17:32:30</td>\n",
       "      <td>1</td>\n",
       "      <td>-73.982155</td>\n",
       "      <td>40.767937</td>\n",
       "      <td>-73.964630</td>\n",
       "      <td>40.765602</td>\n",
       "      <td>455</td>\n",
       "    </tr>\n",
       "    <tr>\n",
       "      <th>1</th>\n",
       "      <td>1</td>\n",
       "      <td>2016-06-12 00:43:35</td>\n",
       "      <td>2016-06-12 00:54:38</td>\n",
       "      <td>1</td>\n",
       "      <td>-73.980415</td>\n",
       "      <td>40.738564</td>\n",
       "      <td>-73.999481</td>\n",
       "      <td>40.731152</td>\n",
       "      <td>663</td>\n",
       "    </tr>\n",
       "    <tr>\n",
       "      <th>2</th>\n",
       "      <td>2</td>\n",
       "      <td>2016-01-19 11:35:24</td>\n",
       "      <td>2016-01-19 12:10:48</td>\n",
       "      <td>1</td>\n",
       "      <td>-73.979027</td>\n",
       "      <td>40.763939</td>\n",
       "      <td>-74.005333</td>\n",
       "      <td>40.710087</td>\n",
       "      <td>2124</td>\n",
       "    </tr>\n",
       "    <tr>\n",
       "      <th>3</th>\n",
       "      <td>2</td>\n",
       "      <td>2016-04-06 19:32:31</td>\n",
       "      <td>2016-04-06 19:39:40</td>\n",
       "      <td>1</td>\n",
       "      <td>-74.010040</td>\n",
       "      <td>40.719971</td>\n",
       "      <td>-74.012268</td>\n",
       "      <td>40.706718</td>\n",
       "      <td>429</td>\n",
       "    </tr>\n",
       "    <tr>\n",
       "      <th>4</th>\n",
       "      <td>2</td>\n",
       "      <td>2016-03-26 13:30:55</td>\n",
       "      <td>2016-03-26 13:38:10</td>\n",
       "      <td>1</td>\n",
       "      <td>-73.973053</td>\n",
       "      <td>40.793209</td>\n",
       "      <td>-73.972923</td>\n",
       "      <td>40.782520</td>\n",
       "      <td>435</td>\n",
       "    </tr>\n",
       "  </tbody>\n",
       "</table>\n",
       "</div>"
      ],
      "text/plain": [
       "   vendor_id      pickup_datetime     dropoff_datetime  passenger_count  \\\n",
       "0          2  2016-03-14 17:24:55  2016-03-14 17:32:30                1   \n",
       "1          1  2016-06-12 00:43:35  2016-06-12 00:54:38                1   \n",
       "2          2  2016-01-19 11:35:24  2016-01-19 12:10:48                1   \n",
       "3          2  2016-04-06 19:32:31  2016-04-06 19:39:40                1   \n",
       "4          2  2016-03-26 13:30:55  2016-03-26 13:38:10                1   \n",
       "\n",
       "   pickup_longitude  pickup_latitude  dropoff_longitude  dropoff_latitude  \\\n",
       "0        -73.982155        40.767937         -73.964630         40.765602   \n",
       "1        -73.980415        40.738564         -73.999481         40.731152   \n",
       "2        -73.979027        40.763939         -74.005333         40.710087   \n",
       "3        -74.010040        40.719971         -74.012268         40.706718   \n",
       "4        -73.973053        40.793209         -73.972923         40.782520   \n",
       "\n",
       "   trip_duration  \n",
       "0            455  \n",
       "1            663  \n",
       "2           2124  \n",
       "3            429  \n",
       "4            435  "
      ]
     },
     "execution_count": 43,
     "metadata": {},
     "output_type": "execute_result"
    }
   ],
   "source": [
    "target_below_200.head()"
   ]
  },
  {
   "cell_type": "code",
   "execution_count": 44,
   "id": "3cee6fe6",
   "metadata": {
    "execution": {
     "iopub.execute_input": "2024-09-06T17:30:33.690803Z",
     "iopub.status.busy": "2024-09-06T17:30:33.690381Z",
     "iopub.status.idle": "2024-09-06T17:30:33.702136Z",
     "shell.execute_reply": "2024-09-06T17:30:33.700636Z"
    },
    "papermill": {
     "duration": 0.049639,
     "end_time": "2024-09-06T17:30:33.705042",
     "exception": false,
     "start_time": "2024-09-06T17:30:33.655403",
     "status": "completed"
    },
    "tags": []
   },
   "outputs": [],
   "source": [
    "import matplotlib.pyplot as plt\n",
    "def plot_density_plots(df):\n",
    "    fig, (ax1,ax2) = plt.subplots(nrows=2,ncols=2,figsize=(15,10))\n",
    "    # density plot for pickup latitude\n",
    "    sns.kdeplot(data=df,x='pickup_latitude',ax=ax1[0])\n",
    "    # density plot for dropoff latitude\n",
    "    sns.kdeplot(data=df,x='dropoff_latitude',ax=ax1[1])\n",
    "    # density plot for pickup longitude\n",
    "    sns.kdeplot(data=df,x='pickup_longitude',ax=ax2[0])\n",
    "    # density plot for pickup longitude\n",
    "    sns.kdeplot(data=df,x='dropoff_longitude',ax=ax2[1])\n",
    "    \n",
    "def plot_boxplots(df):\n",
    "    fig, (ax1, ax2) = plt.subplots(nrows=2, ncols=2, figsize=(15, 10))\n",
    "    sns.boxplot(data=df, y='dropoff_longitude', ax = ax1[0])\n",
    "    sns.boxplot(data=df, y='dropoff_latitude', ax=ax1[1])\n",
    "    sns.boxplot(data=df, y='pickup_longitude', ax=ax2[0])\n",
    "    sns.boxplot(data=df, y='pickup_latitude', ax=ax2[1])"
   ]
  },
  {
   "cell_type": "code",
   "execution_count": 45,
   "id": "af56925f",
   "metadata": {
    "execution": {
     "iopub.execute_input": "2024-09-06T17:30:33.777215Z",
     "iopub.status.busy": "2024-09-06T17:30:33.776135Z",
     "iopub.status.idle": "2024-09-06T17:31:00.717245Z",
     "shell.execute_reply": "2024-09-06T17:31:00.715546Z"
    },
    "papermill": {
     "duration": 26.981272,
     "end_time": "2024-09-06T17:31:00.720407",
     "exception": false,
     "start_time": "2024-09-06T17:30:33.739135",
     "status": "completed"
    },
    "tags": []
   },
   "outputs": [
    {
     "data": {
      "image/png": "[encoded data removed]",
      "text/plain": [
       "<Figure size 1500x1000 with 4 Axes>"
      ]
     },
     "metadata": {},
     "output_type": "display_data"
    }
   ],
   "source": [
    "plot_density_plots(target_below_200)"
   ]
  },
  {
   "cell_type": "code",
   "execution_count": 46,
   "id": "d1b4cd6b",
   "metadata": {
    "execution": {
     "iopub.execute_input": "2024-09-06T17:31:00.801015Z",
     "iopub.status.busy": "2024-09-06T17:31:00.800557Z",
     "iopub.status.idle": "2024-09-06T17:31:02.906040Z",
     "shell.execute_reply": "2024-09-06T17:31:02.904342Z"
    },
    "papermill": {
     "duration": 2.149889,
     "end_time": "2024-09-06T17:31:02.909503",
     "exception": false,
     "start_time": "2024-09-06T17:31:00.759614",
     "status": "completed"
    },
    "tags": []
   },
   "outputs": [
    {
     "data": {
      "image/png": "[encoded data removed]",
      "text/plain": [
       "<Figure size 1500x1000 with 4 Axes>"
      ]
     },
     "metadata": {},
     "output_type": "display_data"
    }
   ],
   "source": [
    "plot_boxplots(target_below_200)"
   ]
  },
  {
   "cell_type": "code",
   "execution_count": 47,
   "id": "f5646d2a",
   "metadata": {
    "execution": {
     "iopub.execute_input": "2024-09-06T17:31:02.983424Z",
     "iopub.status.busy": "2024-09-06T17:31:02.982901Z",
     "iopub.status.idle": "2024-09-06T17:31:02.992022Z",
     "shell.execute_reply": "2024-09-06T17:31:02.990568Z"
    },
    "papermill": {
     "duration": 0.049402,
     "end_time": "2024-09-06T17:31:02.994920",
     "exception": false,
     "start_time": "2024-09-06T17:31:02.945518",
     "status": "completed"
    },
    "tags": []
   },
   "outputs": [],
   "source": [
    "# function to remove outliers from data\n",
    "\n",
    "def remove_outliers(percentiles, column_names):\n",
    "    original_number_of_rows = target_below_200.shape[0]\n",
    "    rows_removed = {}\n",
    "    df_after_removal = target_below_200.copy()\n",
    "    for column in column_names:\n",
    "        quantile_values = target_below_200[column].quantile(list(percentiles))\n",
    "        data_filter = (target_below_200[column]>=quantile_values.iloc[0]) & (target_below_200[column]<=quantile_values.iloc[1])\n",
    "        df_after_removal = df_after_removal.loc[data_filter]\n",
    "        rows_removed[column] = original_number_of_rows - df_after_removal.shape[0]\n",
    "        original_number_of_rows = df_after_removal.shape[0]\n",
    "    print(rows_removed)\n",
    "    return df_after_removal, rows_removed"
   ]
  },
  {
   "cell_type": "code",
   "execution_count": 48,
   "id": "1779fd89",
   "metadata": {
    "execution": {
     "iopub.execute_input": "2024-09-06T17:31:03.070205Z",
     "iopub.status.busy": "2024-09-06T17:31:03.069732Z",
     "iopub.status.idle": "2024-09-06T17:31:03.076924Z",
     "shell.execute_reply": "2024-09-06T17:31:03.075435Z"
    },
    "papermill": {
     "duration": 0.049015,
     "end_time": "2024-09-06T17:31:03.080242",
     "exception": false,
     "start_time": "2024-09-06T17:31:03.031227",
     "status": "completed"
    },
    "tags": []
   },
   "outputs": [],
   "source": [
    "percentile_values = (0.002, 0.998)\n",
    "outliers_columns = target_below_200.columns[4:8]"
   ]
  },
  {
   "cell_type": "code",
   "execution_count": 49,
   "id": "6c189456",
   "metadata": {
    "execution": {
     "iopub.execute_input": "2024-09-06T17:31:03.158230Z",
     "iopub.status.busy": "2024-09-06T17:31:03.157712Z",
     "iopub.status.idle": "2024-09-06T17:31:04.053804Z",
     "shell.execute_reply": "2024-09-06T17:31:04.051916Z"
    },
    "papermill": {
     "duration": 0.940586,
     "end_time": "2024-09-06T17:31:04.057297",
     "exception": false,
     "start_time": "2024-09-06T17:31:03.116711",
     "status": "completed"
    },
    "tags": []
   },
   "outputs": [
    {
     "name": "stdout",
     "output_type": "stream",
     "text": [
      "{'pickup_longitude': 5698, 'pickup_latitude': 5479, 'dropoff_longitude': 5032, 'dropoff_latitude': 4700}\n"
     ]
    }
   ],
   "source": [
    "df_without_outliers, removal_dict = remove_outliers(percentile_values, outliers_columns)"
   ]
  },
  {
   "cell_type": "code",
   "execution_count": 50,
   "id": "b93234d3",
   "metadata": {
    "execution": {
     "iopub.execute_input": "2024-09-06T17:31:04.134392Z",
     "iopub.status.busy": "2024-09-06T17:31:04.133869Z",
     "iopub.status.idle": "2024-09-06T17:31:04.143202Z",
     "shell.execute_reply": "2024-09-06T17:31:04.141665Z"
    },
    "papermill": {
     "duration": 0.051863,
     "end_time": "2024-09-06T17:31:04.146301",
     "exception": false,
     "start_time": "2024-09-06T17:31:04.094438",
     "status": "completed"
    },
    "tags": []
   },
   "outputs": [
    {
     "data": {
      "text/plain": [
       "{'pickup_longitude': 5698,\n",
       " 'pickup_latitude': 5479,\n",
       " 'dropoff_longitude': 5032,\n",
       " 'dropoff_latitude': 4700}"
      ]
     },
     "execution_count": 50,
     "metadata": {},
     "output_type": "execute_result"
    }
   ],
   "source": [
    "removal_dict"
   ]
  },
  {
   "cell_type": "code",
   "execution_count": 51,
   "id": "be0fe5ce",
   "metadata": {
    "execution": {
     "iopub.execute_input": "2024-09-06T17:31:04.222937Z",
     "iopub.status.busy": "2024-09-06T17:31:04.221228Z",
     "iopub.status.idle": "2024-09-06T17:31:04.231788Z",
     "shell.execute_reply": "2024-09-06T17:31:04.230360Z"
    },
    "papermill": {
     "duration": 0.052768,
     "end_time": "2024-09-06T17:31:04.234956",
     "exception": false,
     "start_time": "2024-09-06T17:31:04.182188",
     "status": "completed"
    },
    "tags": []
   },
   "outputs": [
    {
     "data": {
      "text/plain": [
       "20909"
      ]
     },
     "execution_count": 51,
     "metadata": {},
     "output_type": "execute_result"
    }
   ],
   "source": [
    "sum(removal_dict.values())"
   ]
  },
  {
   "cell_type": "code",
   "execution_count": 52,
   "id": "b16eb278",
   "metadata": {
    "execution": {
     "iopub.execute_input": "2024-09-06T17:31:04.313872Z",
     "iopub.status.busy": "2024-09-06T17:31:04.313358Z",
     "iopub.status.idle": "2024-09-06T17:31:04.322749Z",
     "shell.execute_reply": "2024-09-06T17:31:04.320891Z"
    },
    "papermill": {
     "duration": 0.052441,
     "end_time": "2024-09-06T17:31:04.326078",
     "exception": false,
     "start_time": "2024-09-06T17:31:04.273637",
     "status": "completed"
    },
    "tags": []
   },
   "outputs": [
    {
     "name": "stdout",
     "output_type": "stream",
     "text": [
      "Percentage of data points removed after outlier removal from lat/long columns: 1.44%\n"
     ]
    }
   ],
   "source": [
    "# percentage of data points removed after outliers removal\n",
    "per_of_removed_data = (target_below_200.shape[0]-df_without_outliers.shape[0])/(target_below_200.shape[0])\n",
    "\n",
    "print(f'Percentage of data points removed after outlier removal from lat/long columns: {per_of_removed_data:.2%}')"
   ]
  },
  {
   "cell_type": "code",
   "execution_count": 53,
   "id": "cf3bd6fc",
   "metadata": {
    "execution": {
     "iopub.execute_input": "2024-09-06T17:31:04.405164Z",
     "iopub.status.busy": "2024-09-06T17:31:04.404719Z",
     "iopub.status.idle": "2024-09-06T17:31:32.256102Z",
     "shell.execute_reply": "2024-09-06T17:31:32.254301Z"
    },
    "papermill": {
     "duration": 27.892886,
     "end_time": "2024-09-06T17:31:32.259417",
     "exception": false,
     "start_time": "2024-09-06T17:31:04.366531",
     "status": "completed"
    },
    "tags": []
   },
   "outputs": [
    {
     "data": {
      "image/png": "[encoded data removed]",
      "text/plain": [
       "<Figure size 1500x1000 with 4 Axes>"
      ]
     },
     "metadata": {},
     "output_type": "display_data"
    }
   ],
   "source": [
    "plot_density_plots(df_without_outliers)"
   ]
  },
  {
   "cell_type": "code",
   "execution_count": 54,
   "id": "b1e182db",
   "metadata": {
    "execution": {
     "iopub.execute_input": "2024-09-06T17:31:32.362136Z",
     "iopub.status.busy": "2024-09-06T17:31:32.361596Z",
     "iopub.status.idle": "2024-09-06T17:31:34.408674Z",
     "shell.execute_reply": "2024-09-06T17:31:34.406894Z"
    },
    "papermill": {
     "duration": 2.105925,
     "end_time": "2024-09-06T17:31:34.412425",
     "exception": false,
     "start_time": "2024-09-06T17:31:32.306500",
     "status": "completed"
    },
    "tags": []
   },
   "outputs": [
    {
     "data": {
      "image/png": "[encoded data removed]",
      "text/plain": [
       "<Figure size 1500x1000 with 4 Axes>"
      ]
     },
     "metadata": {},
     "output_type": "display_data"
    }
   ],
   "source": [
    "plot_boxplots(df_without_outliers)"
   ]
  },
  {
   "cell_type": "code",
   "execution_count": 55,
   "id": "4e2e88a8",
   "metadata": {
    "execution": {
     "iopub.execute_input": "2024-09-06T17:31:34.496256Z",
     "iopub.status.busy": "2024-09-06T17:31:34.495761Z",
     "iopub.status.idle": "2024-09-06T17:31:34.612353Z",
     "shell.execute_reply": "2024-09-06T17:31:34.610834Z"
    },
    "papermill": {
     "duration": 0.161858,
     "end_time": "2024-09-06T17:31:34.615565",
     "exception": false,
     "start_time": "2024-09-06T17:31:34.453707",
     "status": "completed"
    },
    "tags": []
   },
   "outputs": [
    {
     "data": {
      "text/html": [
       "<div>\n",
       "<style scoped>\n",
       "    .dataframe tbody tr th:only-of-type {\n",
       "        vertical-align: middle;\n",
       "    }\n",
       "\n",
       "    .dataframe tbody tr th {\n",
       "        vertical-align: top;\n",
       "    }\n",
       "\n",
       "    .dataframe thead th {\n",
       "        text-align: right;\n",
       "    }\n",
       "</style>\n",
       "<table border=\"1\" class=\"dataframe\">\n",
       "  <thead>\n",
       "    <tr style=\"text-align: right;\">\n",
       "      <th></th>\n",
       "      <th>skewness</th>\n",
       "    </tr>\n",
       "  </thead>\n",
       "  <tbody>\n",
       "    <tr>\n",
       "      <th>pickup_latitude</th>\n",
       "      <td>-1.101700</td>\n",
       "    </tr>\n",
       "    <tr>\n",
       "      <th>dropoff_latitude</th>\n",
       "      <td>-0.485723</td>\n",
       "    </tr>\n",
       "    <tr>\n",
       "      <th>pickup_longitude</th>\n",
       "      <td>3.341363</td>\n",
       "    </tr>\n",
       "    <tr>\n",
       "      <th>dropoff_longitude</th>\n",
       "      <td>2.867819</td>\n",
       "    </tr>\n",
       "  </tbody>\n",
       "</table>\n",
       "</div>"
      ],
      "text/plain": [
       "                   skewness\n",
       "pickup_latitude   -1.101700\n",
       "dropoff_latitude  -0.485723\n",
       "pickup_longitude   3.341363\n",
       "dropoff_longitude  2.867819"
      ]
     },
     "execution_count": 55,
     "metadata": {},
     "output_type": "execute_result"
    }
   ],
   "source": [
    "# skewness of lat/long columns\n",
    "\n",
    "df_without_outliers[outliers_columns].skew().to_frame(name='skewness').iloc[[1, 3, 0, 2]]"
   ]
  },
  {
   "cell_type": "code",
   "execution_count": null,
   "id": "81088958",
   "metadata": {
    "papermill": {
     "duration": 0.039618,
     "end_time": "2024-09-06T17:31:34.696497",
     "exception": false,
     "start_time": "2024-09-06T17:31:34.656879",
     "status": "completed"
    },
    "tags": []
   },
   "outputs": [],
   "source": []
  },
  {
   "cell_type": "code",
   "execution_count": 56,
   "id": "408a8af6",
   "metadata": {
    "execution": {
     "iopub.execute_input": "2024-09-06T17:31:34.783385Z",
     "iopub.status.busy": "2024-09-06T17:31:34.782831Z",
     "iopub.status.idle": "2024-09-06T17:31:34.791811Z",
     "shell.execute_reply": "2024-09-06T17:31:34.790214Z"
    },
    "papermill": {
     "duration": 0.056396,
     "end_time": "2024-09-06T17:31:34.795197",
     "exception": false,
     "start_time": "2024-09-06T17:31:34.738801",
     "status": "completed"
    },
    "tags": []
   },
   "outputs": [],
   "source": [
    "def apply_transformation(func):\n",
    "    for i in range(len(func)):\n",
    "        original_skew = df_without_outliers[f'{list(outliers_columns)[i]}'].skew()\n",
    "        print(f'The skewness of column {list(outliers_columns)[i]} before transformation is {original_skew}')\n",
    "        skewness_atr_transformation = df_without_outliers[f'{list(outliers_columns)[i]}'].apply(func[i]).skew()\n",
    "        print(f'The skewness of column {list(outliers_columns)[i]} after transformation is {skewness_atr_transformation}')\n",
    "        print('\\n', '*'*30, '\\n')"
   ]
  },
  {
   "cell_type": "markdown",
   "id": "ec21bb2c",
   "metadata": {
    "papermill": {
     "duration": 0.041587,
     "end_time": "2024-09-06T17:31:34.876828",
     "exception": false,
     "start_time": "2024-09-06T17:31:34.835241",
     "status": "completed"
    },
    "tags": []
   },
   "source": [
    "- **Log transformations are often used to reduce positive skewness by compressing large values.**\n",
    "- **Cubing can be used for transformation in the opposite direction, often inflating smaller values to reduce skewness when values are negatively skewed.**"
   ]
  },
  {
   "cell_type": "code",
   "execution_count": 57,
   "id": "4a46478e",
   "metadata": {
    "execution": {
     "iopub.execute_input": "2024-09-06T17:31:34.961230Z",
     "iopub.status.busy": "2024-09-06T17:31:34.959459Z",
     "iopub.status.idle": "2024-09-06T17:31:34.967498Z",
     "shell.execute_reply": "2024-09-06T17:31:34.965998Z"
    },
    "papermill": {
     "duration": 0.053945,
     "end_time": "2024-09-06T17:31:34.970693",
     "exception": false,
     "start_time": "2024-09-06T17:31:34.916748",
     "status": "completed"
    },
    "tags": []
   },
   "outputs": [],
   "source": [
    "log_func = lambda x : -np.log(abs(x))\n",
    "cube_func= lambda x : x**3"
   ]
  },
  {
   "cell_type": "code",
   "execution_count": 58,
   "id": "ca3d5609",
   "metadata": {
    "execution": {
     "iopub.execute_input": "2024-09-06T17:31:35.056908Z",
     "iopub.status.busy": "2024-09-06T17:31:35.056386Z",
     "iopub.status.idle": "2024-09-06T17:31:44.463210Z",
     "shell.execute_reply": "2024-09-06T17:31:44.461474Z"
    },
    "papermill": {
     "duration": 9.455144,
     "end_time": "2024-09-06T17:31:44.468419",
     "exception": false,
     "start_time": "2024-09-06T17:31:35.013275",
     "status": "completed"
    },
    "tags": []
   },
   "outputs": [
    {
     "name": "stdout",
     "output_type": "stream",
     "text": [
      "The skewness of column pickup_longitude before transformation is 3.34136276335352\n",
      "The skewness of column pickup_longitude after transformation is 3.3446186975280146\n",
      "\n",
      " ****************************** \n",
      "\n",
      "The skewness of column pickup_latitude before transformation is -1.101700482506364\n",
      "The skewness of column pickup_latitude after transformation is -1.0940057075543879\n",
      "\n",
      " ****************************** \n",
      "\n",
      "The skewness of column dropoff_longitude before transformation is 2.867818797501469\n",
      "The skewness of column dropoff_longitude after transformation is 2.8718140021587675\n",
      "\n",
      " ****************************** \n",
      "\n",
      "The skewness of column dropoff_latitude before transformation is -0.48572306780467744\n",
      "The skewness of column dropoff_latitude after transformation is -0.4769448478791475\n",
      "\n",
      " ****************************** \n",
      "\n"
     ]
    }
   ],
   "source": [
    "function_list = [log_func, cube_func, log_func, cube_func]\n",
    "apply_transformation(func=function_list)"
   ]
  },
  {
   "cell_type": "code",
   "execution_count": 59,
   "id": "f2720771",
   "metadata": {
    "execution": {
     "iopub.execute_input": "2024-09-06T17:31:44.556408Z",
     "iopub.status.busy": "2024-09-06T17:31:44.555846Z",
     "iopub.status.idle": "2024-09-06T17:31:57.708998Z",
     "shell.execute_reply": "2024-09-06T17:31:57.707260Z"
    },
    "papermill": {
     "duration": 13.201565,
     "end_time": "2024-09-06T17:31:57.712300",
     "exception": false,
     "start_time": "2024-09-06T17:31:44.510735",
     "status": "completed"
    },
    "tags": []
   },
   "outputs": [
    {
     "data": {
      "image/png": "[encoded data removed]",
      "text/plain": [
       "<Figure size 640x480 with 1 Axes>"
      ]
     },
     "metadata": {},
     "output_type": "display_data"
    }
   ],
   "source": [
    "sns.kdeplot(data=target_below_200, x='trip_duration', label='with outliers')\n",
    "sns.kdeplot(data=df_without_outliers, x='trip_duration', label='without outliers')\n",
    "plt.legend()\n",
    "plt.show()"
   ]
  },
  {
   "cell_type": "markdown",
   "id": "016be5ac",
   "metadata": {
    "papermill": {
     "duration": 0.041344,
     "end_time": "2024-09-06T17:31:57.794733",
     "exception": false,
     "start_time": "2024-09-06T17:31:57.753389",
     "status": "completed"
    },
    "tags": []
   },
   "source": [
    "### Passenger count"
   ]
  },
  {
   "cell_type": "code",
   "execution_count": 60,
   "id": "b5661d34",
   "metadata": {
    "execution": {
     "iopub.execute_input": "2024-09-06T17:31:57.881610Z",
     "iopub.status.busy": "2024-09-06T17:31:57.881083Z",
     "iopub.status.idle": "2024-09-06T17:31:57.901035Z",
     "shell.execute_reply": "2024-09-06T17:31:57.899450Z"
    },
    "papermill": {
     "duration": 0.065869,
     "end_time": "2024-09-06T17:31:57.904266",
     "exception": false,
     "start_time": "2024-09-06T17:31:57.838397",
     "status": "completed"
    },
    "tags": []
   },
   "outputs": [
    {
     "data": {
      "text/html": [
       "<div>\n",
       "<style scoped>\n",
       "    .dataframe tbody tr th:only-of-type {\n",
       "        vertical-align: middle;\n",
       "    }\n",
       "\n",
       "    .dataframe tbody tr th {\n",
       "        vertical-align: top;\n",
       "    }\n",
       "\n",
       "    .dataframe thead th {\n",
       "        text-align: right;\n",
       "    }\n",
       "</style>\n",
       "<table border=\"1\" class=\"dataframe\">\n",
       "  <thead>\n",
       "    <tr style=\"text-align: right;\">\n",
       "      <th></th>\n",
       "      <th>vendor_id</th>\n",
       "      <th>pickup_datetime</th>\n",
       "      <th>dropoff_datetime</th>\n",
       "      <th>passenger_count</th>\n",
       "      <th>pickup_longitude</th>\n",
       "      <th>pickup_latitude</th>\n",
       "      <th>dropoff_longitude</th>\n",
       "      <th>dropoff_latitude</th>\n",
       "      <th>trip_duration</th>\n",
       "    </tr>\n",
       "  </thead>\n",
       "  <tbody>\n",
       "    <tr>\n",
       "      <th>0</th>\n",
       "      <td>2</td>\n",
       "      <td>2016-03-14 17:24:55</td>\n",
       "      <td>2016-03-14 17:32:30</td>\n",
       "      <td>1</td>\n",
       "      <td>-73.982155</td>\n",
       "      <td>40.767937</td>\n",
       "      <td>-73.964630</td>\n",
       "      <td>40.765602</td>\n",
       "      <td>455</td>\n",
       "    </tr>\n",
       "    <tr>\n",
       "      <th>1</th>\n",
       "      <td>1</td>\n",
       "      <td>2016-06-12 00:43:35</td>\n",
       "      <td>2016-06-12 00:54:38</td>\n",
       "      <td>1</td>\n",
       "      <td>-73.980415</td>\n",
       "      <td>40.738564</td>\n",
       "      <td>-73.999481</td>\n",
       "      <td>40.731152</td>\n",
       "      <td>663</td>\n",
       "    </tr>\n",
       "    <tr>\n",
       "      <th>2</th>\n",
       "      <td>2</td>\n",
       "      <td>2016-01-19 11:35:24</td>\n",
       "      <td>2016-01-19 12:10:48</td>\n",
       "      <td>1</td>\n",
       "      <td>-73.979027</td>\n",
       "      <td>40.763939</td>\n",
       "      <td>-74.005333</td>\n",
       "      <td>40.710087</td>\n",
       "      <td>2124</td>\n",
       "    </tr>\n",
       "    <tr>\n",
       "      <th>3</th>\n",
       "      <td>2</td>\n",
       "      <td>2016-04-06 19:32:31</td>\n",
       "      <td>2016-04-06 19:39:40</td>\n",
       "      <td>1</td>\n",
       "      <td>-74.010040</td>\n",
       "      <td>40.719971</td>\n",
       "      <td>-74.012268</td>\n",
       "      <td>40.706718</td>\n",
       "      <td>429</td>\n",
       "    </tr>\n",
       "    <tr>\n",
       "      <th>4</th>\n",
       "      <td>2</td>\n",
       "      <td>2016-03-26 13:30:55</td>\n",
       "      <td>2016-03-26 13:38:10</td>\n",
       "      <td>1</td>\n",
       "      <td>-73.973053</td>\n",
       "      <td>40.793209</td>\n",
       "      <td>-73.972923</td>\n",
       "      <td>40.782520</td>\n",
       "      <td>435</td>\n",
       "    </tr>\n",
       "  </tbody>\n",
       "</table>\n",
       "</div>"
      ],
      "text/plain": [
       "   vendor_id      pickup_datetime     dropoff_datetime  passenger_count  \\\n",
       "0          2  2016-03-14 17:24:55  2016-03-14 17:32:30                1   \n",
       "1          1  2016-06-12 00:43:35  2016-06-12 00:54:38                1   \n",
       "2          2  2016-01-19 11:35:24  2016-01-19 12:10:48                1   \n",
       "3          2  2016-04-06 19:32:31  2016-04-06 19:39:40                1   \n",
       "4          2  2016-03-26 13:30:55  2016-03-26 13:38:10                1   \n",
       "\n",
       "   pickup_longitude  pickup_latitude  dropoff_longitude  dropoff_latitude  \\\n",
       "0        -73.982155        40.767937         -73.964630         40.765602   \n",
       "1        -73.980415        40.738564         -73.999481         40.731152   \n",
       "2        -73.979027        40.763939         -74.005333         40.710087   \n",
       "3        -74.010040        40.719971         -74.012268         40.706718   \n",
       "4        -73.973053        40.793209         -73.972923         40.782520   \n",
       "\n",
       "   trip_duration  \n",
       "0            455  \n",
       "1            663  \n",
       "2           2124  \n",
       "3            429  \n",
       "4            435  "
      ]
     },
     "execution_count": 60,
     "metadata": {},
     "output_type": "execute_result"
    }
   ],
   "source": [
    "df_without_outliers.head()"
   ]
  },
  {
   "cell_type": "code",
   "execution_count": 61,
   "id": "ae204e02",
   "metadata": {
    "execution": {
     "iopub.execute_input": "2024-09-06T17:31:57.991522Z",
     "iopub.status.busy": "2024-09-06T17:31:57.990973Z",
     "iopub.status.idle": "2024-09-06T17:31:58.000366Z",
     "shell.execute_reply": "2024-09-06T17:31:57.998801Z"
    },
    "papermill": {
     "duration": 0.057688,
     "end_time": "2024-09-06T17:31:58.003681",
     "exception": false,
     "start_time": "2024-09-06T17:31:57.945993",
     "status": "completed"
    },
    "tags": []
   },
   "outputs": [
    {
     "data": {
      "text/plain": [
       "(1435639, 9)"
      ]
     },
     "execution_count": 61,
     "metadata": {},
     "output_type": "execute_result"
    }
   ],
   "source": [
    "df_without_outliers.shape"
   ]
  },
  {
   "cell_type": "code",
   "execution_count": 62,
   "id": "b5957291",
   "metadata": {
    "execution": {
     "iopub.execute_input": "2024-09-06T17:31:58.091961Z",
     "iopub.status.busy": "2024-09-06T17:31:58.091469Z",
     "iopub.status.idle": "2024-09-06T17:31:58.118817Z",
     "shell.execute_reply": "2024-09-06T17:31:58.117212Z"
    },
    "papermill": {
     "duration": 0.074408,
     "end_time": "2024-09-06T17:31:58.121997",
     "exception": false,
     "start_time": "2024-09-06T17:31:58.047589",
     "status": "completed"
    },
    "tags": []
   },
   "outputs": [
    {
     "data": {
      "text/plain": [
       "passenger_count\n",
       "1    1017699\n",
       "2     206726\n",
       "5      76789\n",
       "3      58932\n",
       "6      47552\n",
       "4      27888\n",
       "0         52\n",
       "8          1\n",
       "Name: count, dtype: int64"
      ]
     },
     "execution_count": 62,
     "metadata": {},
     "output_type": "execute_result"
    }
   ],
   "source": [
    "df_without_outliers['passenger_count'].value_counts()"
   ]
  },
  {
   "cell_type": "markdown",
   "id": "f7b7ccdc",
   "metadata": {
    "papermill": {
     "duration": 0.041023,
     "end_time": "2024-09-06T17:31:58.204803",
     "exception": false,
     "start_time": "2024-09-06T17:31:58.163780",
     "status": "completed"
    },
    "tags": []
   },
   "source": [
    "- 0 and 8 look like outliers"
   ]
  },
  {
   "cell_type": "code",
   "execution_count": 63,
   "id": "ed7a286c",
   "metadata": {
    "execution": {
     "iopub.execute_input": "2024-09-06T17:31:58.290142Z",
     "iopub.status.busy": "2024-09-06T17:31:58.289580Z",
     "iopub.status.idle": "2024-09-06T17:31:58.442093Z",
     "shell.execute_reply": "2024-09-06T17:31:58.440741Z"
    },
    "papermill": {
     "duration": 0.198581,
     "end_time": "2024-09-06T17:31:58.445203",
     "exception": false,
     "start_time": "2024-09-06T17:31:58.246622",
     "status": "completed"
    },
    "tags": []
   },
   "outputs": [],
   "source": [
    "final_df = df_without_outliers[~df_without_outliers['passenger_count'].isin([0,8])]"
   ]
  },
  {
   "cell_type": "code",
   "execution_count": 64,
   "id": "32fad87a",
   "metadata": {
    "execution": {
     "iopub.execute_input": "2024-09-06T17:31:58.530724Z",
     "iopub.status.busy": "2024-09-06T17:31:58.530102Z",
     "iopub.status.idle": "2024-09-06T17:31:58.549538Z",
     "shell.execute_reply": "2024-09-06T17:31:58.548225Z"
    },
    "papermill": {
     "duration": 0.065187,
     "end_time": "2024-09-06T17:31:58.552179",
     "exception": false,
     "start_time": "2024-09-06T17:31:58.486992",
     "status": "completed"
    },
    "tags": []
   },
   "outputs": [
    {
     "data": {
      "text/html": [
       "<div>\n",
       "<style scoped>\n",
       "    .dataframe tbody tr th:only-of-type {\n",
       "        vertical-align: middle;\n",
       "    }\n",
       "\n",
       "    .dataframe tbody tr th {\n",
       "        vertical-align: top;\n",
       "    }\n",
       "\n",
       "    .dataframe thead th {\n",
       "        text-align: right;\n",
       "    }\n",
       "</style>\n",
       "<table border=\"1\" class=\"dataframe\">\n",
       "  <thead>\n",
       "    <tr style=\"text-align: right;\">\n",
       "      <th></th>\n",
       "      <th>vendor_id</th>\n",
       "      <th>pickup_datetime</th>\n",
       "      <th>dropoff_datetime</th>\n",
       "      <th>passenger_count</th>\n",
       "      <th>pickup_longitude</th>\n",
       "      <th>pickup_latitude</th>\n",
       "      <th>dropoff_longitude</th>\n",
       "      <th>dropoff_latitude</th>\n",
       "      <th>trip_duration</th>\n",
       "    </tr>\n",
       "  </thead>\n",
       "  <tbody>\n",
       "    <tr>\n",
       "      <th>0</th>\n",
       "      <td>2</td>\n",
       "      <td>2016-03-14 17:24:55</td>\n",
       "      <td>2016-03-14 17:32:30</td>\n",
       "      <td>1</td>\n",
       "      <td>-73.982155</td>\n",
       "      <td>40.767937</td>\n",
       "      <td>-73.964630</td>\n",
       "      <td>40.765602</td>\n",
       "      <td>455</td>\n",
       "    </tr>\n",
       "    <tr>\n",
       "      <th>1</th>\n",
       "      <td>1</td>\n",
       "      <td>2016-06-12 00:43:35</td>\n",
       "      <td>2016-06-12 00:54:38</td>\n",
       "      <td>1</td>\n",
       "      <td>-73.980415</td>\n",
       "      <td>40.738564</td>\n",
       "      <td>-73.999481</td>\n",
       "      <td>40.731152</td>\n",
       "      <td>663</td>\n",
       "    </tr>\n",
       "    <tr>\n",
       "      <th>2</th>\n",
       "      <td>2</td>\n",
       "      <td>2016-01-19 11:35:24</td>\n",
       "      <td>2016-01-19 12:10:48</td>\n",
       "      <td>1</td>\n",
       "      <td>-73.979027</td>\n",
       "      <td>40.763939</td>\n",
       "      <td>-74.005333</td>\n",
       "      <td>40.710087</td>\n",
       "      <td>2124</td>\n",
       "    </tr>\n",
       "    <tr>\n",
       "      <th>3</th>\n",
       "      <td>2</td>\n",
       "      <td>2016-04-06 19:32:31</td>\n",
       "      <td>2016-04-06 19:39:40</td>\n",
       "      <td>1</td>\n",
       "      <td>-74.010040</td>\n",
       "      <td>40.719971</td>\n",
       "      <td>-74.012268</td>\n",
       "      <td>40.706718</td>\n",
       "      <td>429</td>\n",
       "    </tr>\n",
       "    <tr>\n",
       "      <th>4</th>\n",
       "      <td>2</td>\n",
       "      <td>2016-03-26 13:30:55</td>\n",
       "      <td>2016-03-26 13:38:10</td>\n",
       "      <td>1</td>\n",
       "      <td>-73.973053</td>\n",
       "      <td>40.793209</td>\n",
       "      <td>-73.972923</td>\n",
       "      <td>40.782520</td>\n",
       "      <td>435</td>\n",
       "    </tr>\n",
       "  </tbody>\n",
       "</table>\n",
       "</div>"
      ],
      "text/plain": [
       "   vendor_id      pickup_datetime     dropoff_datetime  passenger_count  \\\n",
       "0          2  2016-03-14 17:24:55  2016-03-14 17:32:30                1   \n",
       "1          1  2016-06-12 00:43:35  2016-06-12 00:54:38                1   \n",
       "2          2  2016-01-19 11:35:24  2016-01-19 12:10:48                1   \n",
       "3          2  2016-04-06 19:32:31  2016-04-06 19:39:40                1   \n",
       "4          2  2016-03-26 13:30:55  2016-03-26 13:38:10                1   \n",
       "\n",
       "   pickup_longitude  pickup_latitude  dropoff_longitude  dropoff_latitude  \\\n",
       "0        -73.982155        40.767937         -73.964630         40.765602   \n",
       "1        -73.980415        40.738564         -73.999481         40.731152   \n",
       "2        -73.979027        40.763939         -74.005333         40.710087   \n",
       "3        -74.010040        40.719971         -74.012268         40.706718   \n",
       "4        -73.973053        40.793209         -73.972923         40.782520   \n",
       "\n",
       "   trip_duration  \n",
       "0            455  \n",
       "1            663  \n",
       "2           2124  \n",
       "3            429  \n",
       "4            435  "
      ]
     },
     "execution_count": 64,
     "metadata": {},
     "output_type": "execute_result"
    }
   ],
   "source": [
    "final_df.head()"
   ]
  },
  {
   "cell_type": "code",
   "execution_count": 65,
   "id": "f3446399",
   "metadata": {
    "execution": {
     "iopub.execute_input": "2024-09-06T17:31:58.640713Z",
     "iopub.status.busy": "2024-09-06T17:31:58.640150Z",
     "iopub.status.idle": "2024-09-06T17:31:58.648771Z",
     "shell.execute_reply": "2024-09-06T17:31:58.647165Z"
    },
    "papermill": {
     "duration": 0.055776,
     "end_time": "2024-09-06T17:31:58.651581",
     "exception": false,
     "start_time": "2024-09-06T17:31:58.595805",
     "status": "completed"
    },
    "tags": []
   },
   "outputs": [
    {
     "name": "stdout",
     "output_type": "stream",
     "text": [
      "The shape of data before removing passenger_count 0 and 8 is  1435639\n",
      "The sahpe of data after removing passenger_count 0 and 8 is   1435586\n",
      "Total difference of rows befor and after removal of passenger_count 0 and 8 is 53\n"
     ]
    }
   ],
   "source": [
    "# compare the shape\n",
    "print('The shape of data before removing passenger_count 0 and 8 is ', df_without_outliers.shape[0])\n",
    "print('The sahpe of data after removing passenger_count 0 and 8 is  ', final_df.shape[0])\n",
    "print('Total difference of rows befor and after removal of passenger_count 0 and 8 is', df_without_outliers.shape[0]-final_df.shape[0])"
   ]
  },
  {
   "cell_type": "code",
   "execution_count": 66,
   "id": "d36a164d",
   "metadata": {
    "execution": {
     "iopub.execute_input": "2024-09-06T17:31:58.741670Z",
     "iopub.status.busy": "2024-09-06T17:31:58.740086Z",
     "iopub.status.idle": "2024-09-06T17:31:58.747276Z",
     "shell.execute_reply": "2024-09-06T17:31:58.745862Z"
    },
    "papermill": {
     "duration": 0.055273,
     "end_time": "2024-09-06T17:31:58.750981",
     "exception": false,
     "start_time": "2024-09-06T17:31:58.695708",
     "status": "completed"
    },
    "tags": []
   },
   "outputs": [],
   "source": [
    "# save the final_df\n",
    "save_path = Path('/kaggle/working/data/output')\n",
    "save_path.mkdir(exist_ok=True)"
   ]
  },
  {
   "cell_type": "code",
   "execution_count": 67,
   "id": "7e7be2ec",
   "metadata": {
    "execution": {
     "iopub.execute_input": "2024-09-06T17:31:58.841152Z",
     "iopub.status.busy": "2024-09-06T17:31:58.840266Z",
     "iopub.status.idle": "2024-09-06T17:32:17.827824Z",
     "shell.execute_reply": "2024-09-06T17:32:17.826114Z"
    },
    "papermill": {
     "duration": 19.037539,
     "end_time": "2024-09-06T17:32:17.831255",
     "exception": false,
     "start_time": "2024-09-06T17:31:58.793716",
     "status": "completed"
    },
    "tags": []
   },
   "outputs": [],
   "source": [
    "final_df.to_csv(save_path/'final_df.csv', index=False)"
   ]
  },
  {
   "cell_type": "code",
   "execution_count": 68,
   "id": "84f0821b",
   "metadata": {
    "execution": {
     "iopub.execute_input": "2024-09-06T17:32:17.917135Z",
     "iopub.status.busy": "2024-09-06T17:32:17.916631Z",
     "iopub.status.idle": "2024-09-06T17:32:22.633278Z",
     "shell.execute_reply": "2024-09-06T17:32:22.631542Z"
    },
    "papermill": {
     "duration": 4.763205,
     "end_time": "2024-09-06T17:32:22.636923",
     "exception": false,
     "start_time": "2024-09-06T17:32:17.873718",
     "status": "completed"
    },
    "tags": []
   },
   "outputs": [
    {
     "data": {
      "text/html": [
       "<div>\n",
       "<style scoped>\n",
       "    .dataframe tbody tr th:only-of-type {\n",
       "        vertical-align: middle;\n",
       "    }\n",
       "\n",
       "    .dataframe tbody tr th {\n",
       "        vertical-align: top;\n",
       "    }\n",
       "\n",
       "    .dataframe thead th {\n",
       "        text-align: right;\n",
       "    }\n",
       "</style>\n",
       "<table border=\"1\" class=\"dataframe\">\n",
       "  <thead>\n",
       "    <tr style=\"text-align: right;\">\n",
       "      <th></th>\n",
       "      <th>vendor_id</th>\n",
       "      <th>pickup_datetime</th>\n",
       "      <th>dropoff_datetime</th>\n",
       "      <th>passenger_count</th>\n",
       "      <th>pickup_longitude</th>\n",
       "      <th>pickup_latitude</th>\n",
       "      <th>dropoff_longitude</th>\n",
       "      <th>dropoff_latitude</th>\n",
       "      <th>trip_duration</th>\n",
       "    </tr>\n",
       "  </thead>\n",
       "  <tbody>\n",
       "    <tr>\n",
       "      <th>0</th>\n",
       "      <td>2</td>\n",
       "      <td>2016-03-14 17:24:55</td>\n",
       "      <td>2016-03-14 17:32:30</td>\n",
       "      <td>1</td>\n",
       "      <td>-73.982155</td>\n",
       "      <td>40.767937</td>\n",
       "      <td>-73.964630</td>\n",
       "      <td>40.765602</td>\n",
       "      <td>455</td>\n",
       "    </tr>\n",
       "    <tr>\n",
       "      <th>1</th>\n",
       "      <td>1</td>\n",
       "      <td>2016-06-12 00:43:35</td>\n",
       "      <td>2016-06-12 00:54:38</td>\n",
       "      <td>1</td>\n",
       "      <td>-73.980415</td>\n",
       "      <td>40.738564</td>\n",
       "      <td>-73.999481</td>\n",
       "      <td>40.731152</td>\n",
       "      <td>663</td>\n",
       "    </tr>\n",
       "    <tr>\n",
       "      <th>2</th>\n",
       "      <td>2</td>\n",
       "      <td>2016-01-19 11:35:24</td>\n",
       "      <td>2016-01-19 12:10:48</td>\n",
       "      <td>1</td>\n",
       "      <td>-73.979027</td>\n",
       "      <td>40.763939</td>\n",
       "      <td>-74.005333</td>\n",
       "      <td>40.710087</td>\n",
       "      <td>2124</td>\n",
       "    </tr>\n",
       "    <tr>\n",
       "      <th>3</th>\n",
       "      <td>2</td>\n",
       "      <td>2016-04-06 19:32:31</td>\n",
       "      <td>2016-04-06 19:39:40</td>\n",
       "      <td>1</td>\n",
       "      <td>-74.010040</td>\n",
       "      <td>40.719971</td>\n",
       "      <td>-74.012268</td>\n",
       "      <td>40.706718</td>\n",
       "      <td>429</td>\n",
       "    </tr>\n",
       "    <tr>\n",
       "      <th>4</th>\n",
       "      <td>2</td>\n",
       "      <td>2016-03-26 13:30:55</td>\n",
       "      <td>2016-03-26 13:38:10</td>\n",
       "      <td>1</td>\n",
       "      <td>-73.973053</td>\n",
       "      <td>40.793209</td>\n",
       "      <td>-73.972923</td>\n",
       "      <td>40.782520</td>\n",
       "      <td>435</td>\n",
       "    </tr>\n",
       "  </tbody>\n",
       "</table>\n",
       "</div>"
      ],
      "text/plain": [
       "   vendor_id      pickup_datetime     dropoff_datetime  passenger_count  \\\n",
       "0          2  2016-03-14 17:24:55  2016-03-14 17:32:30                1   \n",
       "1          1  2016-06-12 00:43:35  2016-06-12 00:54:38                1   \n",
       "2          2  2016-01-19 11:35:24  2016-01-19 12:10:48                1   \n",
       "3          2  2016-04-06 19:32:31  2016-04-06 19:39:40                1   \n",
       "4          2  2016-03-26 13:30:55  2016-03-26 13:38:10                1   \n",
       "\n",
       "   pickup_longitude  pickup_latitude  dropoff_longitude  dropoff_latitude  \\\n",
       "0        -73.982155        40.767937         -73.964630         40.765602   \n",
       "1        -73.980415        40.738564         -73.999481         40.731152   \n",
       "2        -73.979027        40.763939         -74.005333         40.710087   \n",
       "3        -74.010040        40.719971         -74.012268         40.706718   \n",
       "4        -73.973053        40.793209         -73.972923         40.782520   \n",
       "\n",
       "   trip_duration  \n",
       "0            455  \n",
       "1            663  \n",
       "2           2124  \n",
       "3            429  \n",
       "4            435  "
      ]
     },
     "execution_count": 68,
     "metadata": {},
     "output_type": "execute_result"
    }
   ],
   "source": [
    "final_df_copy = pd.read_csv(save_path/'final_df.csv')\n",
    "final_df_copy.head()"
   ]
  },
  {
   "cell_type": "code",
   "execution_count": null,
   "id": "61fdf396",
   "metadata": {
    "papermill": {
     "duration": 0.043361,
     "end_time": "2024-09-06T17:32:22.724401",
     "exception": false,
     "start_time": "2024-09-06T17:32:22.681040",
     "status": "completed"
    },
    "tags": []
   },
   "outputs": [],
   "source": []
  }
 ],
 "metadata": {
  "kaggle": {
   "accelerator": "none",
   "dataSources": [
    {
     "databundleVersionId": 44258,
     "sourceId": 6960,
     "sourceType": "competition"
    }
   ],
   "dockerImageVersionId": 30761,
   "isGpuEnabled": false,
   "isInternetEnabled": true,
   "language": "python",
   "sourceType": "notebook"
  },
  "kernelspec": {
   "display_name": "Python 3",
   "language": "python",
   "name": "python3"
  },
  "language_info": {
   "codemirror_mode": {
    "name": "ipython",
    "version": 3
   },
   "file_extension": ".py",
   "mimetype": "text/x-python",
   "name": "python",
   "nbconvert_exporter": "python",
   "pygments_lexer": "ipython3",
   "version": "3.10.14"
  },
  "papermill": {
   "default_parameters": {},
   "duration": 205.439577,
   "end_time": "2024-09-06T17:32:24.196613",
   "environment_variables": {},
   "exception": null,
   "input_path": "__notebook__.ipynb",
   "output_path": "__notebook__.ipynb",
   "parameters": {},
   "start_time": "2024-09-06T17:28:58.757036",
   "version": "2.6.0"
  }
 },
 "nbformat": 4,
 "nbformat_minor": 5
}
